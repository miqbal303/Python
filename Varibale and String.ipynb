{
 "cells": [
  {
   "cell_type": "markdown",
   "id": "55ebb961",
   "metadata": {},
   "source": [
    "<h2> Variable"
   ]
  },
  {
   "cell_type": "markdown",
   "id": "d929fc10",
   "metadata": {},
   "source": [
    "<h3> Variables are containers for storing data values.  \n",
    "    \n",
    "<h3>Variable Names\n",
    "    \n",
    "<h5> A variable can have a short name (like x and y) or a more descriptive name (age, carname, total_volume).\n",
    "    \n",
    "Rules for Python variables:\n",
    "    \n",
    "1.A variable name must start with a letter or the underscore character\n",
    "\n",
    "2.A variable name cannot start with a number\n",
    "    \n",
    "3.A variable name can only contain alpha-numeric characters and underscores (A-z, 0-9, and _ )\n",
    "\n",
    "4.Variable names are case-sensitive (age, Age and AGE are three different variables)\n",
    "                      \n",
    "source :- https://www.w3schools.com/python/python_variables_names.asp            "
   ]
  },
  {
   "cell_type": "code",
   "execution_count": 1,
   "id": "dcd68a4e",
   "metadata": {},
   "outputs": [],
   "source": [
    "#Legal variable names:\n",
    "\n",
    "myvar = \"John\"       #myvar is a legal variable\n",
    "my_var = \"John\"      #my_var is a legal variable\n",
    "_my_var = \"John\"     #_my_var is a legal variable\n",
    "myVar = \"John\"       #myVar is a legal variable\n",
    "MYVAR = \"John\"       #MYVAR is a legal variable\n",
    "myvar2 = \"John\"      #myvar2 is a legal variable"
   ]
  },
  {
   "cell_type": "code",
   "execution_count": 2,
   "id": "9ee81e5b",
   "metadata": {},
   "outputs": [
    {
     "ename": "SyntaxError",
     "evalue": "invalid syntax (<ipython-input-2-3a552aea7a15>, line 3)",
     "output_type": "error",
     "traceback": [
      "\u001b[1;36m  File \u001b[1;32m\"<ipython-input-2-3a552aea7a15>\"\u001b[1;36m, line \u001b[1;32m3\u001b[0m\n\u001b[1;33m    2myvar = \"John\"     # 2myvar is a illegal variable\u001b[0m\n\u001b[1;37m     ^\u001b[0m\n\u001b[1;31mSyntaxError\u001b[0m\u001b[1;31m:\u001b[0m invalid syntax\n"
     ]
    }
   ],
   "source": [
    "#Illegal variable names:\n",
    "\n",
    "2myvar = \"John\"     # 2myvar is a illegal variable\n",
    "my-var = \"John\"     # my-var is a illegal variable\n",
    "my var = \"John\"     # my var is a illegal variable\n",
    "\n",
    "# source :- https://www.w3schools.com/python/python_variables_names.asp  "
   ]
  },
  {
   "cell_type": "markdown",
   "id": "8a767176",
   "metadata": {},
   "source": [
    "<h2> String\n",
    "   \n",
    "<h3>The string data types are immutable. Which means a string value cannot be updated. \n",
    "    \n",
    "    \n",
    "<h5>Strings in python are surrounded by either single quotation marks, or double quotation marks.\n",
    "\n",
    "'hello' is the same as \"hello\".\n",
    "\n",
    "You can display a string literal with the print() function:"
   ]
  },
  {
   "cell_type": "code",
   "execution_count": 3,
   "id": "7c60b111",
   "metadata": {},
   "outputs": [
    {
     "name": "stdout",
     "output_type": "stream",
     "text": [
      "hello\n",
      "hello\n"
     ]
    }
   ],
   "source": [
    "print('hello')\n",
    "print(\"hello\")"
   ]
  },
  {
   "cell_type": "markdown",
   "id": "9efd45c8",
   "metadata": {},
   "source": [
    "<h6>Assign String to a Variable"
   ]
  },
  {
   "cell_type": "code",
   "execution_count": 4,
   "id": "8a2b4a80",
   "metadata": {},
   "outputs": [
    {
     "name": "stdout",
     "output_type": "stream",
     "text": [
      "Welcome to Python\n"
     ]
    }
   ],
   "source": [
    "my_string = \"Welcome to Python\"\n",
    "print(my_string)"
   ]
  },
  {
   "cell_type": "markdown",
   "id": "ca24077e",
   "metadata": {},
   "source": [
    "<h6> Multiline string\n",
    "    \n",
    "    \n",
    "    Multiline string using three quotes(\"\"\"  \"\"\"):"
   ]
  },
  {
   "cell_type": "code",
   "execution_count": 5,
   "id": "cdbc2ac9",
   "metadata": {},
   "outputs": [],
   "source": [
    "a = \"\"\" This is Multiline string\n",
    "          using three quotation mark\"\"\""
   ]
  },
  {
   "cell_type": "code",
   "execution_count": 6,
   "id": "4166dfab",
   "metadata": {},
   "outputs": [
    {
     "name": "stdout",
     "output_type": "stream",
     "text": [
      " This is Multiline string\n",
      "          using three quotation mark\n"
     ]
    }
   ],
   "source": [
    "print(a)"
   ]
  },
  {
   "cell_type": "markdown",
   "id": "74254102",
   "metadata": {},
   "source": [
    "<h6>String Concatenation"
   ]
  },
  {
   "cell_type": "code",
   "execution_count": 7,
   "id": "5629524f",
   "metadata": {},
   "outputs": [],
   "source": [
    "string1 = \"Is pyhton is a scripting Language?\"\n",
    "string2 = \"Yes it is.\""
   ]
  },
  {
   "cell_type": "markdown",
   "id": "ec38cc8b",
   "metadata": {},
   "source": [
    "<h6>  Use \" + \" operator for concate two or more string into one."
   ]
  },
  {
   "cell_type": "code",
   "execution_count": 8,
   "id": "c0089b64",
   "metadata": {},
   "outputs": [
    {
     "name": "stdout",
     "output_type": "stream",
     "text": [
      "Is pyhton is a scripting Language?Yes it is.\n"
     ]
    }
   ],
   "source": [
    "print(string1 + string2)"
   ]
  },
  {
   "cell_type": "code",
   "execution_count": 9,
   "id": "a9306f49",
   "metadata": {},
   "outputs": [
    {
     "name": "stdout",
     "output_type": "stream",
     "text": [
      "Is pyhton is a scripting Language? Yes it is.\n"
     ]
    }
   ],
   "source": [
    "# for adding space between two string\n",
    "\n",
    "print(string1 +\" \" + string2)"
   ]
  },
  {
   "cell_type": "markdown",
   "id": "f8efe050",
   "metadata": {},
   "source": [
    "<h6> captalization words using upper() method"
   ]
  },
  {
   "cell_type": "code",
   "execution_count": 10,
   "id": "0e95d9da",
   "metadata": {},
   "outputs": [
    {
     "name": "stdout",
     "output_type": "stream",
     "text": [
      "IS PYHTON IS A SCRIPTING LANGUAGE?\n"
     ]
    }
   ],
   "source": [
    "print(string1.upper())"
   ]
  },
  {
   "cell_type": "markdown",
   "id": "aee0a36f",
   "metadata": {},
   "source": [
    "<h6>  all word in small using lower() method"
   ]
  },
  {
   "cell_type": "code",
   "execution_count": 11,
   "id": "b99fa3b1",
   "metadata": {},
   "outputs": [
    {
     "name": "stdout",
     "output_type": "stream",
     "text": [
      "is pyhton is a scripting language?\n"
     ]
    }
   ],
   "source": [
    "print(string1.lower())"
   ]
  },
  {
   "cell_type": "markdown",
   "id": "57d9adc9",
   "metadata": {},
   "source": [
    "<h6> first letter capital use Title() method "
   ]
  },
  {
   "cell_type": "code",
   "execution_count": 12,
   "id": "5a1bc01f",
   "metadata": {},
   "outputs": [
    {
     "name": "stdout",
     "output_type": "stream",
     "text": [
      "Is Pyhton Is A Scripting Language?\n"
     ]
    }
   ],
   "source": [
    "print(string1.title())"
   ]
  },
  {
   "cell_type": "markdown",
   "id": "93c3a7c5",
   "metadata": {},
   "source": [
    "<h6> removing space in beginning and ending use strip() method"
   ]
  },
  {
   "cell_type": "code",
   "execution_count": 13,
   "id": "a726e88d",
   "metadata": {},
   "outputs": [],
   "source": [
    "string = \" Hello World!   \""
   ]
  },
  {
   "cell_type": "code",
   "execution_count": 14,
   "id": "3e0a901f",
   "metadata": {},
   "outputs": [
    {
     "data": {
      "text/plain": [
       "' Hello World!   '"
      ]
     },
     "execution_count": 14,
     "metadata": {},
     "output_type": "execute_result"
    }
   ],
   "source": [
    "string"
   ]
  },
  {
   "cell_type": "code",
   "execution_count": 15,
   "id": "eaa3eed6",
   "metadata": {},
   "outputs": [
    {
     "data": {
      "text/plain": [
       "'Hello World!'"
      ]
     },
     "execution_count": 15,
     "metadata": {},
     "output_type": "execute_result"
    }
   ],
   "source": [
    "string.strip()"
   ]
  },
  {
   "cell_type": "markdown",
   "id": "92b41f19",
   "metadata": {},
   "source": [
    "<h6> adding new line in string use \\n"
   ]
  },
  {
   "cell_type": "code",
   "execution_count": 16,
   "id": "fb452392",
   "metadata": {},
   "outputs": [
    {
     "name": "stdout",
     "output_type": "stream",
     "text": [
      "Is pyhton is a scripting Language?Yes it is.\n"
     ]
    }
   ],
   "source": [
    "print(string1+string2)"
   ]
  },
  {
   "cell_type": "code",
   "execution_count": 17,
   "id": "f88ba5e2",
   "metadata": {},
   "outputs": [
    {
     "name": "stdout",
     "output_type": "stream",
     "text": [
      "Is pyhton is a scripting Language?\n",
      "Yes it is.\n"
     ]
    }
   ],
   "source": [
    "print(string1+\"\\n\"+string2)"
   ]
  },
  {
   "cell_type": "markdown",
   "id": "787bf35e",
   "metadata": {},
   "source": [
    "<h4> Checking All String Method"
   ]
  },
  {
   "cell_type": "code",
   "execution_count": 18,
   "id": "0ddc0724",
   "metadata": {},
   "outputs": [
    {
     "data": {
      "text/plain": [
       "['__add__',\n",
       " '__class__',\n",
       " '__contains__',\n",
       " '__delattr__',\n",
       " '__dir__',\n",
       " '__doc__',\n",
       " '__eq__',\n",
       " '__format__',\n",
       " '__ge__',\n",
       " '__getattribute__',\n",
       " '__getitem__',\n",
       " '__getnewargs__',\n",
       " '__gt__',\n",
       " '__hash__',\n",
       " '__init__',\n",
       " '__init_subclass__',\n",
       " '__iter__',\n",
       " '__le__',\n",
       " '__len__',\n",
       " '__lt__',\n",
       " '__mod__',\n",
       " '__mul__',\n",
       " '__ne__',\n",
       " '__new__',\n",
       " '__reduce__',\n",
       " '__reduce_ex__',\n",
       " '__repr__',\n",
       " '__rmod__',\n",
       " '__rmul__',\n",
       " '__setattr__',\n",
       " '__sizeof__',\n",
       " '__str__',\n",
       " '__subclasshook__',\n",
       " 'capitalize',\n",
       " 'casefold',\n",
       " 'center',\n",
       " 'count',\n",
       " 'encode',\n",
       " 'endswith',\n",
       " 'expandtabs',\n",
       " 'find',\n",
       " 'format',\n",
       " 'format_map',\n",
       " 'index',\n",
       " 'isalnum',\n",
       " 'isalpha',\n",
       " 'isascii',\n",
       " 'isdecimal',\n",
       " 'isdigit',\n",
       " 'isidentifier',\n",
       " 'islower',\n",
       " 'isnumeric',\n",
       " 'isprintable',\n",
       " 'isspace',\n",
       " 'istitle',\n",
       " 'isupper',\n",
       " 'join',\n",
       " 'ljust',\n",
       " 'lower',\n",
       " 'lstrip',\n",
       " 'maketrans',\n",
       " 'partition',\n",
       " 'replace',\n",
       " 'rfind',\n",
       " 'rindex',\n",
       " 'rjust',\n",
       " 'rpartition',\n",
       " 'rsplit',\n",
       " 'rstrip',\n",
       " 'split',\n",
       " 'splitlines',\n",
       " 'startswith',\n",
       " 'strip',\n",
       " 'swapcase',\n",
       " 'title',\n",
       " 'translate',\n",
       " 'upper',\n",
       " 'zfill']"
      ]
     },
     "execution_count": 18,
     "metadata": {},
     "output_type": "execute_result"
    }
   ],
   "source": [
    "dir(string1)"
   ]
  }
 ],
 "metadata": {
  "kernelspec": {
   "display_name": "Python 3",
   "language": "python",
   "name": "python3"
  },
  "language_info": {
   "codemirror_mode": {
    "name": "ipython",
    "version": 3
   },
   "file_extension": ".py",
   "mimetype": "text/x-python",
   "name": "python",
   "nbconvert_exporter": "python",
   "pygments_lexer": "ipython3",
   "version": "3.8.8"
  }
 },
 "nbformat": 4,
 "nbformat_minor": 5
}
