{
 "cells": [
  {
   "cell_type": "markdown",
   "id": "c7c4c22e",
   "metadata": {},
   "source": [
    "## Python Data Types\n",
    "\n",
    "### There are different types of data types in Python. Some built-in Python data types are:\n",
    "\n",
    "Numeric data types:int, float, complex\n",
    "    \n",
    "String data types: str\n",
    "\n",
    "Sequence types: list, tuple, range\n",
    "\n",
    "Binary types: bytes, bytearray, memoryview\n",
    "\n",
    "Mapping data type: dict\n",
    "\n",
    "Boolean type: bool\n",
    "\n",
    "Set data types: set, frozenset"
   ]
  },
  {
   "cell_type": "markdown",
   "id": "219897c9",
   "metadata": {},
   "source": [
    "## Numeric data types:int, float, complex"
   ]
  },
  {
   "cell_type": "code",
   "execution_count": 1,
   "id": "287c157b",
   "metadata": {},
   "outputs": [
    {
     "data": {
      "text/plain": [
       "int"
      ]
     },
     "execution_count": 1,
     "metadata": {},
     "output_type": "execute_result"
    }
   ],
   "source": [
    "# int is complete whole number\n",
    "\n",
    "a = 32\n",
    "type(a)"
   ]
  },
  {
   "cell_type": "code",
   "execution_count": 2,
   "id": "8f73dee9",
   "metadata": {},
   "outputs": [
    {
     "data": {
      "text/plain": [
       "float"
      ]
     },
     "execution_count": 2,
     "metadata": {},
     "output_type": "execute_result"
    }
   ],
   "source": [
    "# float is decimal number\n",
    "\n",
    "b = 32.2\n",
    "type(b)"
   ]
  },
  {
   "cell_type": "code",
   "execution_count": 3,
   "id": "97a84f9a",
   "metadata": {},
   "outputs": [
    {
     "data": {
      "text/plain": [
       "complex"
      ]
     },
     "execution_count": 3,
     "metadata": {},
     "output_type": "execute_result"
    }
   ],
   "source": [
    "# complex number is form of a+bj\n",
    "\n",
    "c = 2 +3j\n",
    "type(c)"
   ]
  },
  {
   "cell_type": "markdown",
   "id": "d09caff4",
   "metadata": {},
   "source": [
    "## String data types: str"
   ]
  },
  {
   "cell_type": "code",
   "execution_count": 4,
   "id": "4d3bb908",
   "metadata": {},
   "outputs": [],
   "source": [
    "a = 'Hello'  # string are represent single or double quotes"
   ]
  },
  {
   "cell_type": "code",
   "execution_count": 5,
   "id": "d92a9ec4",
   "metadata": {},
   "outputs": [],
   "source": [
    "b = \"Python\""
   ]
  },
  {
   "cell_type": "code",
   "execution_count": 6,
   "id": "12c1574e",
   "metadata": {},
   "outputs": [
    {
     "name": "stdout",
     "output_type": "stream",
     "text": [
      "<class 'str'>\n",
      "<class 'str'>\n"
     ]
    }
   ],
   "source": [
    "print(type(a))\n",
    "print(type(b))"
   ]
  },
  {
   "cell_type": "markdown",
   "id": "e7d28f9c",
   "metadata": {},
   "source": [
    "### Sequence types: list, tuple, range"
   ]
  },
  {
   "cell_type": "code",
   "execution_count": 7,
   "id": "9ff32bf1",
   "metadata": {},
   "outputs": [
    {
     "data": {
      "text/plain": [
       "list"
      ]
     },
     "execution_count": 7,
     "metadata": {},
     "output_type": "execute_result"
    }
   ],
   "source": [
    "a = ['a', 6 , 2.5, True , 2+3j]    # list contain any type of data and represent by square bracket []\n",
    "type(a)                            # List is mutable."
   ]
  },
  {
   "cell_type": "code",
   "execution_count": 8,
   "id": "5a95a5f0",
   "metadata": {},
   "outputs": [
    {
     "data": {
      "text/plain": [
       "tuple"
      ]
     },
     "execution_count": 8,
     "metadata": {},
     "output_type": "execute_result"
    }
   ],
   "source": [
    "b = ('a', 6 , 2.5, True , 2+3j)    # tuple contain any type of data and represent by round bracket ().\n",
    "type(b)                            #Tuple is immutable."
   ]
  },
  {
   "cell_type": "code",
   "execution_count": 9,
   "id": "e245722c",
   "metadata": {},
   "outputs": [
    {
     "name": "stdout",
     "output_type": "stream",
     "text": [
      "<class 'range'>\n",
      "0\n",
      "1\n",
      "2\n",
      "3\n",
      "4\n",
      "5\n"
     ]
    }
   ],
   "source": [
    "x = range(6) # return sequence nummber . start with 0 and exclude last digit\n",
    "print(type(x))\n",
    "\n",
    "for i in x:\n",
    "    print(i)"
   ]
  },
  {
   "cell_type": "code",
   "execution_count": 10,
   "id": "02f58c60",
   "metadata": {},
   "outputs": [
    {
     "name": "stdout",
     "output_type": "stream",
     "text": [
      "1\n",
      "2\n",
      "3\n",
      "4\n",
      "5\n",
      "6\n",
      "7\n",
      "8\n",
      "9\n",
      "10\n"
     ]
    },
    {
     "data": {
      "text/plain": [
       "range"
      ]
     },
     "execution_count": 10,
     "metadata": {},
     "output_type": "execute_result"
    }
   ],
   "source": [
    "x = range(1,11)\n",
    "for i in x:\n",
    "    print(i)\n",
    "    \n",
    "type(x)"
   ]
  },
  {
   "cell_type": "code",
   "execution_count": 11,
   "id": "39f15ef9",
   "metadata": {},
   "outputs": [
    {
     "name": "stdout",
     "output_type": "stream",
     "text": [
      "1\n",
      "3\n",
      "5\n",
      "7\n",
      "9\n"
     ]
    },
    {
     "data": {
      "text/plain": [
       "range"
      ]
     },
     "execution_count": 11,
     "metadata": {},
     "output_type": "execute_result"
    }
   ],
   "source": [
    "x = range(1,11,2)   # start , stope and step\n",
    "for i in x:\n",
    "    print(i)\n",
    "    \n",
    "type(x)"
   ]
  },
  {
   "cell_type": "markdown",
   "id": "51e88a69",
   "metadata": {},
   "source": [
    "### Binary types: bytes, bytearray, memoryview"
   ]
  },
  {
   "cell_type": "code",
   "execution_count": 12,
   "id": "a86ad188",
   "metadata": {},
   "outputs": [
    {
     "data": {
      "text/plain": [
       "bytes"
      ]
     },
     "execution_count": 12,
     "metadata": {},
     "output_type": "execute_result"
    }
   ],
   "source": [
    "a = bytes(10)   # bytes() returns an object that cannot be modified.\n",
    "type(a)"
   ]
  },
  {
   "cell_type": "code",
   "execution_count": 13,
   "id": "57848d43",
   "metadata": {},
   "outputs": [
    {
     "data": {
      "text/plain": [
       "bytearray"
      ]
     },
     "execution_count": 13,
     "metadata": {},
     "output_type": "execute_result"
    }
   ],
   "source": [
    "a = bytearray(10)  # bytearray() returns an object that can be modified\n",
    "type(a)"
   ]
  },
  {
   "cell_type": "code",
   "execution_count": 14,
   "id": "498d28b7",
   "metadata": {},
   "outputs": [
    {
     "data": {
      "text/plain": [
       "memoryview"
      ]
     },
     "execution_count": 14,
     "metadata": {},
     "output_type": "execute_result"
    }
   ],
   "source": [
    "a = memoryview(bytes(10))  \n",
    "type(a)"
   ]
  },
  {
   "cell_type": "markdown",
   "id": "2ffe7f14",
   "metadata": {},
   "source": [
    "### Mapping data type: dict\n",
    "#### Dictionary in Python is a collection of keys values, used to store data values like a map and it's represent by curly brackets{}"
   ]
  },
  {
   "cell_type": "code",
   "execution_count": 15,
   "id": "b0a58a88",
   "metadata": {},
   "outputs": [
    {
     "data": {
      "text/plain": [
       "dict"
      ]
     },
     "execution_count": 15,
     "metadata": {},
     "output_type": "execute_result"
    }
   ],
   "source": [
    "a = {'key1':'item1','key2':'item2'}\n",
    "type(a)"
   ]
  },
  {
   "cell_type": "code",
   "execution_count": 16,
   "id": "bdb35f72",
   "metadata": {},
   "outputs": [
    {
     "data": {
      "text/plain": [
       "dict_keys(['key1', 'key2'])"
      ]
     },
     "execution_count": 16,
     "metadata": {},
     "output_type": "execute_result"
    }
   ],
   "source": [
    "a.keys()"
   ]
  },
  {
   "cell_type": "code",
   "execution_count": 17,
   "id": "2487fae1",
   "metadata": {},
   "outputs": [
    {
     "data": {
      "text/plain": [
       "dict_values(['item1', 'item2'])"
      ]
     },
     "execution_count": 17,
     "metadata": {},
     "output_type": "execute_result"
    }
   ],
   "source": [
    "a.values()"
   ]
  },
  {
   "cell_type": "markdown",
   "id": "2572693d",
   "metadata": {},
   "source": [
    "### Boolean type: bool"
   ]
  },
  {
   "cell_type": "code",
   "execution_count": 18,
   "id": "76441bd3",
   "metadata": {},
   "outputs": [
    {
     "data": {
      "text/plain": [
       "bool"
      ]
     },
     "execution_count": 18,
     "metadata": {},
     "output_type": "execute_result"
    }
   ],
   "source": [
    "a = True   # Boolean data types return True if condition is true else return False\n",
    "type(a)"
   ]
  },
  {
   "cell_type": "code",
   "execution_count": 19,
   "id": "2400256b",
   "metadata": {},
   "outputs": [
    {
     "data": {
      "text/plain": [
       "bool"
      ]
     },
     "execution_count": 19,
     "metadata": {},
     "output_type": "execute_result"
    }
   ],
   "source": [
    "b = False\n",
    "type(b)"
   ]
  },
  {
   "cell_type": "markdown",
   "id": "5ce6910e",
   "metadata": {},
   "source": [
    "### Set data types: set, frozenset"
   ]
  },
  {
   "cell_type": "markdown",
   "id": "c2fb6e6b",
   "metadata": {},
   "source": [
    "#### A set is a collection which is unordered, unchangeable, and unindexed and their is no duplicacy"
   ]
  },
  {
   "cell_type": "code",
   "execution_count": 20,
   "id": "7d2109c6",
   "metadata": {},
   "outputs": [
    {
     "data": {
      "text/plain": [
       "set"
      ]
     },
     "execution_count": 20,
     "metadata": {},
     "output_type": "execute_result"
    }
   ],
   "source": [
    "a = {\"Mohammad\", \"Iqbal\"}\n",
    "type(a)"
   ]
  },
  {
   "cell_type": "markdown",
   "id": "e4100cee",
   "metadata": {},
   "source": [
    "#### Frozen sets in Python are immutable objects that only support methods and operators that produce a result without affecting the frozen set or sets to which they are applied. It can be done with frozenset() method in Python."
   ]
  },
  {
   "cell_type": "code",
   "execution_count": 21,
   "id": "8196200c",
   "metadata": {},
   "outputs": [
    {
     "name": "stdout",
     "output_type": "stream",
     "text": [
      "frozenset({'b', 'c', 'a'})\n"
     ]
    }
   ],
   "source": [
    "# A frozen set\n",
    "frozen_set = frozenset([\"a\", \"b\", \"c\"])\n",
    "\n",
    "print(frozen_set)\n",
    " "
   ]
  }
 ],
 "metadata": {
  "kernelspec": {
   "display_name": "Python 3",
   "language": "python",
   "name": "python3"
  },
  "language_info": {
   "codemirror_mode": {
    "name": "ipython",
    "version": 3
   },
   "file_extension": ".py",
   "mimetype": "text/x-python",
   "name": "python",
   "nbconvert_exporter": "python",
   "pygments_lexer": "ipython3",
   "version": "3.8.8"
  }
 },
 "nbformat": 4,
 "nbformat_minor": 5
}
