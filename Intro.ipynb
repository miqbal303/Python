{
 "cells": [
  {
   "cell_type": "markdown",
   "metadata": {},
   "source": [
    "Python:-\n",
    "\n",
    "Python is a computer programming language that's easy to read and write. It's used to create software, websites, and many other things.\n",
    "\n",
    "Python Syntax:-\n",
    "\n",
    "Python's syntax is designed to be straightforward and readable. Here are some key points about Python syntax:\n",
    "\n",
    "Comments: Single line Comments start with the \"# comment\" symbol and multiline comments uses triple quotes \"\"\"(Comments)\"\"\" and are used to explain code or make notes. They are ignored by the interpreter.\n",
    "\n",
    "Indentation: Python uses indentation (whitespace) to define code blocks. This is different from many other programming languages that use curly braces or keywords. Indentation is crucial for indicating the scope of loops, functions, and conditionals.\n",
    "\n",
    "Variables: Variables are created by assigning a value to a name. Python is dynamically typed, so you don't need to specify the variable's type explicitly.Python has certain naming conventions and rules for variable names to ensure clarity, readability, and consistency in code. Here are some key points to consider when naming variables in Python:\n",
    "\n",
    "a. Valid Characters: Variable names must start with a letter (a-z, A-Z) or an underscore (_) character, followed by letters, digits (0-9), or underscores.\n",
    "\n",
    "b. Case Sensitivity: Python is case-sensitive, so myVariable and myvariable are treated as two different variables.\n",
    "\n",
    "c. Reserved Words: You cannot use Python's reserved keywords as variable names. These keywords are used for defining language constructs and operations. For example, you cannot name a variable \"if\" or \"while\".\n",
    "\n",
    "d. Naming Convention: While not enforced by the language itself, there are conventions that Python programmers follow to make their code more readable and understandable. The most common convention is using lowercase letters for variable names and separating words with underscores (snake_case). For example: my_variable_name.\n",
    "\n",
    "e. Underscore Prefix/Suffix: A single leading underscore (e.g., _my_variable) is often used to indicate that a variable is intended for internal use within a module or class. A double leading underscore (e.g., __my_variable) invokes name mangling, which makes the variable name more unique to the class it's defined in.\n",
    "\n",
    "f. Global and Local Scope: Variables defined within functions are considered local to that function unless explicitly marked as global. Variables defined outside of functions have a global scope.\n",
    "\n",
    "g. Module-Level Variables: Variables defined at the top level of a module (outside functions and classes) are accessible throughout the module. However, it's generally good practice to limit the use of global variables.\n",
    "\n",
    "h. Constants: Python doesn't have true constants, but naming conventions can be used to indicate that a variable is intended to be treated as a constant (e.g., MAX_VALUE = 100).\n",
    "\n",
    "Data Types: Python have several built-in data types like integers, floats, strings, boolean, lists, dictionaries, tuples, Set and NoneType.\n",
    "\n",
    "Conditional Statements: Python uses if, elif (else if), and else for conditional branching.\n",
    "\n",
    "Loops: Python supports for and while loops for iterating over sequences or executing code repeatedly.\n",
    "\n",
    "Functions: Functions are defined using the def keyword. Indentation is used to define the function body."
   ]
  },
  {
   "cell_type": "code",
   "execution_count": 1,
   "metadata": {},
   "outputs": [
    {
     "data": {
      "text/plain": [
       "'\\nThis is\\na\\nmulti-line comment\\n'"
      ]
     },
     "execution_count": 1,
     "metadata": {},
     "output_type": "execute_result"
    }
   ],
   "source": [
    "# This is a single line comment\n",
    "\n",
    "\"\"\"\n",
    "This is\n",
    "a\n",
    "multi-line comment\n",
    "\"\"\""
   ]
  },
  {
   "cell_type": "code",
   "execution_count": 1,
   "metadata": {},
   "outputs": [
    {
     "name": "stdout",
     "output_type": "stream",
     "text": [
      "Ten is greater than two!\n"
     ]
    }
   ],
   "source": [
    "# Correct Indentation\n",
    "if 10 > 2:\n",
    "  print(\"Ten is greater than two!\")\n"
   ]
  },
  {
   "cell_type": "code",
   "execution_count": 2,
   "metadata": {},
   "outputs": [
    {
     "ename": "IndentationError",
     "evalue": "expected an indented block after 'if' statement on line 2 (2220701752.py, line 3)",
     "output_type": "error",
     "traceback": [
      "\u001b[1;36m  Cell \u001b[1;32mIn[2], line 3\u001b[1;36m\u001b[0m\n\u001b[1;33m    print(\"Ten is greater than two!\")\u001b[0m\n\u001b[1;37m    ^\u001b[0m\n\u001b[1;31mIndentationError\u001b[0m\u001b[1;31m:\u001b[0m expected an indented block after 'if' statement on line 2\n"
     ]
    }
   ],
   "source": [
    "# Wrong Indentation\n",
    "if 10 > 2:\n",
    "print(\"Ten is greater than two!\")"
   ]
  },
  {
   "cell_type": "code",
   "execution_count": 4,
   "metadata": {},
   "outputs": [
    {
     "name": "stdout",
     "output_type": "stream",
     "text": [
      "42\n",
      "Hello\n",
      "True\n",
      "3.14\n"
     ]
    }
   ],
   "source": [
    "# Valid Variables Name\n",
    "my_variable = 42\n",
    "print(my_variable)\n",
    "\n",
    "myVar = \"Hello\"\n",
    "print(myVar)\n",
    "\n",
    "_underscore_prefixed = True\n",
    "print(_underscore_prefixed)\n",
    "\n",
    "CONSTANT_VALUE = 3.14\n",
    "print(CONSTANT_VALUE)\n"
   ]
  },
  {
   "cell_type": "code",
   "execution_count": 5,
   "metadata": {},
   "outputs": [
    {
     "ename": "SyntaxError",
     "evalue": "invalid decimal literal (1028836253.py, line 3)",
     "output_type": "error",
     "traceback": [
      "\u001b[1;36m  Cell \u001b[1;32mIn[5], line 3\u001b[1;36m\u001b[0m\n\u001b[1;33m    123variable = 5  # Cannot start with a digit\u001b[0m\n\u001b[1;37m      ^\u001b[0m\n\u001b[1;31mSyntaxError\u001b[0m\u001b[1;31m:\u001b[0m invalid decimal literal\n"
     ]
    }
   ],
   "source": [
    "# Invalid Variable Name\n",
    "\n",
    "123variable = 5  # Cannot start with a digit\n",
    "print(123variable)\n",
    "\n",
    "if = \"condition\"  # Cannot use reserved keyword\n",
    "\n",
    "my-variable = 10  # Cannot use hyphens\n"
   ]
  },
  {
   "cell_type": "code",
   "execution_count": 6,
   "metadata": {},
   "outputs": [
    {
     "name": "stdout",
     "output_type": "stream",
     "text": [
      "<class 'int'>\n",
      "<class 'float'>\n",
      "<class 'str'>\n",
      "<class 'bool'>\n",
      "<class 'list'>\n",
      "<class 'tuple'>\n",
      "<class 'dict'>\n",
      "<class 'set'>\n",
      "<class 'NoneType'>\n"
     ]
    }
   ],
   "source": [
    "# Data Types\n",
    "number = 42   #int\n",
    "print(type(number))\n",
    "\n",
    "pi = 3.14159  # float\n",
    "print(type(pi))\n",
    "\n",
    "text = \"Hello, Python\" # string\n",
    "print(type(text))\n",
    "\n",
    "is_active = True  # boolean\n",
    "print(type(is_active))\n",
    "\n",
    "my_list = [1, 2, 3] # list\n",
    "print(type(my_list))\n",
    "\n",
    "coordinates = (3, 5)  # Tuple\n",
    "print(type(coordinates))\n",
    "\n",
    "my_dict = {\"name\": \"Alice\", \"age\": 30} # dictionary\n",
    "print(type(my_dict))\n",
    "\n",
    "colors = {'red', 'green', 'blue'}\n",
    "print(type(colors)) # Set\n",
    "\n",
    "result = None\n",
    "print(type(result)) #NoneType"
   ]
  },
  {
   "cell_type": "code",
   "execution_count": 9,
   "metadata": {},
   "outputs": [
    {
     "name": "stdout",
     "output_type": "stream",
     "text": [
      "It's cool outside\n"
     ]
    }
   ],
   "source": [
    "# Conditional Statements\n",
    "temperature = 10\n",
    "if temperature > 30:\n",
    "    print(\"It's hot outside\")\n",
    "elif temperature > 20:\n",
    "    print(\"It's warm outside\")\n",
    "else:\n",
    "    print(\"It's cool outside\")\n"
   ]
  },
  {
   "cell_type": "code",
   "execution_count": 2,
   "metadata": {},
   "outputs": [
    {
     "name": "stdout",
     "output_type": "stream",
     "text": [
      "It's warm outside\n"
     ]
    }
   ],
   "source": [
    "temperature = 25\n",
    "if temperature > 30:\n",
    "    print(\"It's hot outside\")\n",
    "elif temperature > 20:\n",
    "    print(\"It's warm outside\")\n",
    "else:\n",
    "    print(\"It's cool outside\")"
   ]
  },
  {
   "cell_type": "code",
   "execution_count": 3,
   "metadata": {},
   "outputs": [
    {
     "name": "stdout",
     "output_type": "stream",
     "text": [
      "It's hot outside\n"
     ]
    }
   ],
   "source": [
    "temperature = 31\n",
    "if temperature > 30:\n",
    "    print(\"It's hot outside\")\n",
    "elif temperature > 20:\n",
    "    print(\"It's warm outside\")\n",
    "else:\n",
    "    print(\"It's cool outside\")"
   ]
  },
  {
   "cell_type": "code",
   "execution_count": 10,
   "metadata": {},
   "outputs": [
    {
     "name": "stdout",
     "output_type": "stream",
     "text": [
      "0\n",
      "1\n",
      "2\n",
      "3\n",
      "4\n"
     ]
    }
   ],
   "source": [
    "# Loops\n",
    "for i in range(5):\n",
    "    print(i)"
   ]
  },
  {
   "cell_type": "code",
   "execution_count": 11,
   "metadata": {},
   "outputs": [
    {
     "name": "stdout",
     "output_type": "stream",
     "text": [
      "0\n",
      "1\n",
      "2\n",
      "3\n",
      "4\n"
     ]
    }
   ],
   "source": [
    "# whille loop\n",
    "count = 0\n",
    "while count < 5:\n",
    "    print(count)\n",
    "    count += 1"
   ]
  },
  {
   "cell_type": "code",
   "execution_count": 13,
   "metadata": {},
   "outputs": [
    {
     "name": "stdout",
     "output_type": "stream",
     "text": [
      "Hello, world\n"
     ]
    }
   ],
   "source": [
    "# Function\n",
    "def greet(name):\n",
    "    print(\"Hello, \" + name)\n",
    "\n",
    "greet(\"world\")"
   ]
  },
  {
   "cell_type": "code",
   "execution_count": null,
   "metadata": {},
   "outputs": [],
   "source": [
    "\"🐍 Beauty of Python Programming 🐍\"\n",
    "\n",
    "\n",
    "\n",
    "\"🚀Whether you're embarking on your coding journey or enhancing your skills, Python opens doors to endless possibilities. Embrace its elegance, and let's code our way to innovation! 💡🚀\"\n",
    "\n",
    "\n",
    "\n",
    "\"Python, a versatile and user-friendly programming language, is taking the tech world by storm. It's used to create software, websites, and many other things.\"\n",
    "\n",
    "\n",
    "\n",
    "Python Syntax:-\n",
    "\n",
    "Python's syntax is designed to be straightforward and readable. Here are some key points about Python syntax:\n",
    "\n",
    "\n",
    "\n",
    "Comments: Single line Comments start with the \"# comment\" symbol and multiline comments uses triple quotes \"\"\"(Comments)\"\"\" and are used to explain code or make notes. They are ignored by the interpreter.\n",
    "\n",
    "\n",
    "\n",
    "Indentation: Python uses indentation (whitespace) to define code blocks. This is different from many other programming languages that use curly braces or keywords. Indentation is crucial for indicating the scope of loops, functions, and conditionals.\n",
    "\n",
    "\n",
    "\n",
    "Variables: Variables are created by assigning a value to a name. Python is dynamically typed, so you don't need to specify the variable's type explicitly.Python has certain naming conventions and rules for variable names to ensure clarity, readability, and consistency in code. Here are some key points to consider when naming variables in Python:\n",
    "\n",
    "\n",
    "\n",
    "a. Valid Characters: Variable names must start with a letter (a-z, A-Z) or an underscore (_) character, followed by letters, digits (0-9), or underscores.\n",
    "\n",
    "\n",
    "\n",
    "b. Case Sensitivity: Python is case-sensitive, so myVariable and myvariable are treated as two different variables.\n",
    "\n",
    "\n",
    "\n",
    "c. Reserved Words: You cannot use Python's reserved keywords as variable names. These keywords are used for defining language constructs and operations. For example, you cannot name a variable \"if\" or \"while\".\n",
    "\n",
    "\n",
    "\n",
    "d. Naming Convention: While not enforced by the language itself, there are conventions that Python programmers follow to make their code more readable and understandable. The most common convention is using lowercase letters for variable names and separating words with underscores (snake_case). For example: my_variable_name.\n",
    "\n",
    "\n",
    "\n",
    "e. Underscore Prefix/Suffix: A single leading underscore (e.g., _my_variable) is often used to indicate that a variable is intended for internal use within a module or class. A double leading underscore (e.g., __my_variable) invokes name mangling, which makes the variable name more unique to the class it's defined in.\n",
    "\n",
    "\n",
    "\n",
    "f. Global and Local Scope: Variables defined within functions are considered local to that function unless explicitly marked as global. Variables defined outside of functions have a global scope.\n",
    "\n",
    "\n",
    "\n",
    "g. Module-Level Variables: Variables defined at the top level of a module (outside functions and classes) are accessible throughout the module. However, it's generally good practice to limit the use of global variables.\n",
    "\n",
    "\n",
    "\n",
    "h. Constants: Python doesn't have true constants, but naming conventions can be used to indicate that a variable is intended to be treated as a constant (e.g., MAX_VALUE = 100).\n",
    "\n",
    "\n",
    "\n",
    "Data Types: Python have several built-in data types like integers, floats, strings, boolean, lists, dictionaries, tuples, Set and NoneType.\n",
    "\n",
    "\n",
    "\n",
    "Conditional Statements: From ➡️ if-else branching to ➰ for and 🔁 while loops, Python equips you to make decisions and iterate seamlessly.\n",
    "\n",
    "\n",
    "\n",
    "Loops: Python supports for and while loops for iterating over sequences or executing code repeatedly.\n",
    "\n",
    "\n",
    "\n",
    "Functions: Functions are defined using the def keyword. Indentation is used to define the function body.\n",
    "\n",
    "#PythonProgramming #PythonCoding #TechInnovation #MachineLearning #DataScientist"
   ]
  }
 ],
 "metadata": {
  "kernelspec": {
   "display_name": "Python 3 (ipykernel)",
   "language": "python",
   "name": "python3"
  },
  "language_info": {
   "codemirror_mode": {
    "name": "ipython",
    "version": 3
   },
   "file_extension": ".py",
   "mimetype": "text/x-python",
   "name": "python",
   "nbconvert_exporter": "python",
   "pygments_lexer": "ipython3",
   "version": "3.10.9"
  }
 },
 "nbformat": 4,
 "nbformat_minor": 2
}
