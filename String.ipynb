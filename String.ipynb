{
 "cells": [
  {
   "cell_type": "markdown",
   "id": "9f6d506f",
   "metadata": {},
   "source": [
    "# String"
   ]
  },
  {
   "cell_type": "markdown",
   "id": "c035f090",
   "metadata": {},
   "source": [
    "1. In Python, strings are used to store and manipulate text data. They are defined using either single ('') or double (\"\") even triple ('''''')quotes.\n",
    "2. It is an immutable data type, meaning that once you have created a string, you cannot change it."
   ]
  },
  {
   "cell_type": "markdown",
   "id": "79a7396c",
   "metadata": {},
   "source": [
    "### Creating\n",
    "\n",
    "#### You can create strings using single or double quotes even triple quotes"
   ]
  },
  {
   "cell_type": "code",
   "execution_count": 1,
   "id": "627a133a",
   "metadata": {},
   "outputs": [
    {
     "name": "stdout",
     "output_type": "stream",
     "text": [
      "This is a single-quoted string.\n",
      "This is a double-quoted string.\n",
      "This is a triple-quoted string.\n"
     ]
    }
   ],
   "source": [
    "# Creating a string and save into a variable\n",
    "single_quoted = 'This is a single-quoted string.'\n",
    "double_quoted = \"This is a double-quoted string.\"\n",
    "triple_quoted = '''This is a triple-quoted string.'''\n",
    "\n",
    "print(single_quoted)\n",
    "print(double_quoted)\n",
    "print(triple_quoted)"
   ]
  },
  {
   "cell_type": "markdown",
   "id": "97807ce8",
   "metadata": {},
   "source": [
    "### Concatenation\n",
    "\n",
    "#### Strings can be concatenated using the '+' operator."
   ]
  },
  {
   "cell_type": "code",
   "execution_count": 2,
   "id": "0194f123",
   "metadata": {},
   "outputs": [
    {
     "name": "stdout",
     "output_type": "stream",
     "text": [
      "Mohammad Iqbal\n"
     ]
    }
   ],
   "source": [
    "first_name = \"Mohammad\"\n",
    "last_name = \"Iqbal\"\n",
    "full_name = first_name + \" \" + last_name # \"(space)\" use for Sapce between string Output Mohammad Iqbal\n",
    "print(full_name)"
   ]
  },
  {
   "cell_type": "code",
   "execution_count": 3,
   "id": "255f313d",
   "metadata": {},
   "outputs": [
    {
     "name": "stdout",
     "output_type": "stream",
     "text": [
      "MohammadIqbal\n"
     ]
    }
   ],
   "source": [
    "full_name = first_name + last_name # not using \"(space)\"  Output MohammadIqbal\n",
    "print(full_name)"
   ]
  },
  {
   "cell_type": "code",
   "execution_count": 4,
   "id": "91d49824",
   "metadata": {},
   "outputs": [
    {
     "name": "stdout",
     "output_type": "stream",
     "text": [
      "12\n",
      "<class 'str'>\n"
     ]
    }
   ],
   "source": [
    "# Note\n",
    "# Give a number in quotes it's count as a string \n",
    "a = '1' \n",
    "b = '2' \n",
    "print(a+b)\n",
    "print(type(a))"
   ]
  },
  {
   "cell_type": "markdown",
   "id": "26ff090f",
   "metadata": {},
   "source": [
    "### Escaping Characters\n",
    "\n",
    "#### Use a backslash () to escape special characters within strings."
   ]
  },
  {
   "cell_type": "code",
   "execution_count": 5,
   "id": "75233509",
   "metadata": {},
   "outputs": [
    {
     "name": "stdout",
     "output_type": "stream",
     "text": [
      "This string has a newline: \n",
      " And a tab: \t\n"
     ]
    }
   ],
   "source": [
    "escaped_string = \"This string has a newline: \\n And a tab: \\t\"\n",
    "print(escaped_string)"
   ]
  },
  {
   "cell_type": "markdown",
   "id": "d14e7330",
   "metadata": {},
   "source": [
    "### String Repetition\n",
    "\n",
    "#### You can repeat a string using the * operator."
   ]
  },
  {
   "cell_type": "code",
   "execution_count": 6,
   "id": "43a92b72",
   "metadata": {},
   "outputs": [
    {
     "name": "stdout",
     "output_type": "stream",
     "text": [
      "Hello!Hello!Hello!\n"
     ]
    }
   ],
   "source": [
    "repeated_string = \"Hello!\" * 3  # Output \"Hello!Hello!Hello!\"\n",
    "print(repeated_string)"
   ]
  },
  {
   "cell_type": "markdown",
   "id": "001be10d",
   "metadata": {},
   "source": [
    "### Accessing Characters\n",
    "\n",
    "#### You can access individual characters in a string using indexing\n",
    "<img src='indexing.png'>"
   ]
  },
  {
   "cell_type": "code",
   "execution_count": 7,
   "id": "1367dc70",
   "metadata": {},
   "outputs": [
    {
     "name": "stdout",
     "output_type": "stream",
     "text": [
      "P\n",
      "g\n"
     ]
    }
   ],
   "source": [
    "word = \"Python Indexing\"\n",
    "first_letter = word[0]  # \"P\"\n",
    "last_letter = word[-1]   # \"g\"\n",
    "\n",
    "print(first_letter)\n",
    "print(last_letter)"
   ]
  },
  {
   "cell_type": "markdown",
   "id": "adeb4f50",
   "metadata": {},
   "source": [
    "### Slicing Strings\n",
    "\n",
    "#### Slicing allows you to extract substrings from a string."
   ]
  },
  {
   "cell_type": "code",
   "execution_count": 8,
   "id": "b39c9dcb",
   "metadata": {},
   "outputs": [
    {
     "name": "stdout",
     "output_type": "stream",
     "text": [
      "Index\n",
      "nixe\n"
     ]
    }
   ],
   "source": [
    "text = \"Python Indexing\"\n",
    "substring1 = text[7:12]  # starting with index 7 and ending with index 11 (not including 12)\n",
    "substring2 = text[-2:-6:-1]  # Extract characters from index -2 to index -5 in reverse order\n",
    "print(substring1)\n",
    "print(substring2)"
   ]
  },
  {
   "cell_type": "markdown",
   "id": "aaadc2f1",
   "metadata": {},
   "source": [
    "### String Comparison\n",
    "#### Strings can be compared using standard comparison operators"
   ]
  },
  {
   "cell_type": "code",
   "execution_count": 9,
   "id": "346caeeb",
   "metadata": {},
   "outputs": [
    {
     "name": "stdout",
     "output_type": "stream",
     "text": [
      "True\n"
     ]
    }
   ],
   "source": [
    "str1 = \"apple\"\n",
    "str2 = \"banana\"\n",
    "result = str1 < str2  # True, based on lexicographic order\n",
    "print(result)"
   ]
  },
  {
   "cell_type": "markdown",
   "id": "be2abebc",
   "metadata": {},
   "source": [
    "### Built_in Function"
   ]
  },
  {
   "cell_type": "markdown",
   "id": "d5aa212c",
   "metadata": {},
   "source": [
    "#### len(): Returns the length of a string."
   ]
  },
  {
   "cell_type": "code",
   "execution_count": 10,
   "id": "1c60006b",
   "metadata": {},
   "outputs": [
    {
     "name": "stdout",
     "output_type": "stream",
     "text": [
      "13\n"
     ]
    }
   ],
   "source": [
    "text = \"Hello, World!\"\n",
    "length = len(text)  # Returns 13\n",
    "print(length)"
   ]
  },
  {
   "cell_type": "markdown",
   "id": "252c6647",
   "metadata": {},
   "source": [
    "#### str(): Converts non-string values to strings."
   ]
  },
  {
   "cell_type": "code",
   "execution_count": 11,
   "id": "14d1de94",
   "metadata": {},
   "outputs": [
    {
     "name": "stdout",
     "output_type": "stream",
     "text": [
      "<class 'str'>\n"
     ]
    }
   ],
   "source": [
    "number = 42\n",
    "string_number = str(number)  # Converts 42 to \"42\"\n",
    "print(type(string_number))"
   ]
  },
  {
   "cell_type": "markdown",
   "id": "965305a8",
   "metadata": {},
   "source": [
    "#### upper() and lower(): Convert strings to uppercase or lowercase."
   ]
  },
  {
   "cell_type": "code",
   "execution_count": 12,
   "id": "5624d345",
   "metadata": {},
   "outputs": [
    {
     "name": "stdout",
     "output_type": "stream",
     "text": [
      "HELLO, WORLD!\n",
      "hello, world!\n"
     ]
    }
   ],
   "source": [
    "text = \"Hello, World!\"\n",
    "uppercase = text.upper()  # \"HELLO, WORLD!\"\n",
    "lowercase = text.lower()  # \"hello, world!\"\n",
    "print(uppercase)\n",
    "print(lowercase)"
   ]
  },
  {
   "cell_type": "markdown",
   "id": "02ee7387",
   "metadata": {},
   "source": [
    "#### capitalize(): Capitalizes the first letter of a string."
   ]
  },
  {
   "cell_type": "code",
   "execution_count": 13,
   "id": "c4d31b68",
   "metadata": {},
   "outputs": [
    {
     "name": "stdout",
     "output_type": "stream",
     "text": [
      "Hello, world!\n"
     ]
    }
   ],
   "source": [
    "text = \"hello, world!\"\n",
    "capitalized = text.capitalize()  # \"Hello, world!\"\n",
    "print(capitalized)"
   ]
  },
  {
   "cell_type": "markdown",
   "id": "b3f53de6",
   "metadata": {},
   "source": [
    "#### title(): Capitalizes the first letter of each word in a string."
   ]
  },
  {
   "cell_type": "code",
   "execution_count": 14,
   "id": "552921f1",
   "metadata": {},
   "outputs": [
    {
     "name": "stdout",
     "output_type": "stream",
     "text": [
      "Hello World\n"
     ]
    }
   ],
   "source": [
    "text = \"hello world\"\n",
    "title_case = text.title()  # \"Hello World\"\n",
    "print(title_case)"
   ]
  },
  {
   "cell_type": "markdown",
   "id": "d697ab83",
   "metadata": {},
   "source": [
    "#### strip(), lstrip(), and rstrip(): Removes leading/trailing whitespace."
   ]
  },
  {
   "cell_type": "code",
   "execution_count": 15,
   "id": "b5a12e8f",
   "metadata": {},
   "outputs": [
    {
     "name": "stdout",
     "output_type": "stream",
     "text": [
      "Hello, World!\n",
      "Hello, World!   \n",
      "   Hello, World!\n"
     ]
    }
   ],
   "source": [
    "message = \"   Hello, World!   \"\n",
    "trimmed = message.strip()   # \"Hello, World!\"\n",
    "left_trimmed = message.lstrip()  # \"Hello, World!   \"\n",
    "right_trimmed = message.rstrip()  # \"   Hello, World!\"\n",
    "print(trimmed)\n",
    "print(left_trimmed)\n",
    "print(right_trimmed)"
   ]
  },
  {
   "cell_type": "markdown",
   "id": "b4acc2e1",
   "metadata": {},
   "source": [
    "#### replace(): Replaces occurrences of a substring with another."
   ]
  },
  {
   "cell_type": "code",
   "execution_count": 16,
   "id": "de85f642",
   "metadata": {},
   "outputs": [
    {
     "name": "stdout",
     "output_type": "stream",
     "text": [
      "Hello, Universe!\n"
     ]
    }
   ],
   "source": [
    "text = \"Hello, World!\"\n",
    "new_text = text.replace(\"World\", \"Universe\")  # \"Hello, Universe!\"\n",
    "print(new_text)"
   ]
  },
  {
   "cell_type": "markdown",
   "id": "a4d5a3cb",
   "metadata": {},
   "source": [
    "#### find() and index(): Find the index of a substring in a string."
   ]
  },
  {
   "cell_type": "code",
   "execution_count": 17,
   "id": "4b26d9ad",
   "metadata": {},
   "outputs": [
    {
     "name": "stdout",
     "output_type": "stream",
     "text": [
      "0\n"
     ]
    }
   ],
   "source": [
    "sentence = \"Python is fun and Python is powerful\"\n",
    "index = sentence.find(\"Python\")  # Returns 0 (index of first occurrence)\n",
    "print(index)"
   ]
  },
  {
   "cell_type": "markdown",
   "id": "f7c27993",
   "metadata": {},
   "source": [
    "#### count(): Counts the occurrences of a substring in a string."
   ]
  },
  {
   "cell_type": "code",
   "execution_count": 18,
   "id": "1545392f",
   "metadata": {},
   "outputs": [
    {
     "name": "stdout",
     "output_type": "stream",
     "text": [
      "2\n"
     ]
    }
   ],
   "source": [
    "sentence = \"Python is fun and Python is powerful\"\n",
    "count = sentence.count(\"Python\")  # Returns 2\n",
    "print(count)"
   ]
  },
  {
   "cell_type": "markdown",
   "id": "f877074d",
   "metadata": {},
   "source": [
    "#### startswith() and endswith(): Checks if a string starts or ends with a specific substring."
   ]
  },
  {
   "cell_type": "code",
   "execution_count": 19,
   "id": "0b37ff09",
   "metadata": {},
   "outputs": [
    {
     "name": "stdout",
     "output_type": "stream",
     "text": [
      "True\n",
      "True\n",
      "False\n"
     ]
    }
   ],
   "source": [
    "text = \"Hello, World!\"\n",
    "starts_with_hello1 = text.startswith(\"Hello\")  # True\n",
    "ends_with_world = text.endswith(\"World!\")  # True\n",
    "starts_with_hello2 = text.startswith(\"World!\")  # False\n",
    "\n",
    "print(starts_with_hello1)\n",
    "print(ends_with_world)\n",
    "print(starts_with_hello2)"
   ]
  },
  {
   "cell_type": "markdown",
   "id": "cca8934d",
   "metadata": {},
   "source": [
    "#### split(): Splits a string into a list of substrings based on a delimiter."
   ]
  },
  {
   "cell_type": "code",
   "execution_count": 20,
   "id": "b98462f0",
   "metadata": {},
   "outputs": [
    {
     "name": "stdout",
     "output_type": "stream",
     "text": [
      "['apple', 'banana', 'orange']\n"
     ]
    }
   ],
   "source": [
    "text = \"apple,banana,orange\"\n",
    "fruits_list = text.split(\",\")  # ['apple', 'banana', 'orange']\n",
    "print(fruits_list)"
   ]
  },
  {
   "cell_type": "markdown",
   "id": "4ca712f1",
   "metadata": {},
   "source": [
    "#### join(): Joins a list of strings into a single string using a specified delimiter."
   ]
  },
  {
   "cell_type": "code",
   "execution_count": 21,
   "id": "59f6197b",
   "metadata": {},
   "outputs": [
    {
     "name": "stdout",
     "output_type": "stream",
     "text": [
      "apple,banana,orange\n"
     ]
    }
   ],
   "source": [
    "fruits_list = ['apple', 'banana', 'orange']\n",
    "joined_text = \",\".join(fruits_list)  # \"apple,banana,orange\"\n",
    "print(joined_text)"
   ]
  },
  {
   "cell_type": "markdown",
   "id": "c45279da",
   "metadata": {},
   "source": [
    "#### isalpha(), isdigit(), isalnum(), isspace(): Check if a string consists of alphabetical characters, digits, alphanumeric characters, or whitespace characters, respectively."
   ]
  },
  {
   "cell_type": "code",
   "execution_count": 22,
   "id": "092df28d",
   "metadata": {},
   "outputs": [
    {
     "name": "stdout",
     "output_type": "stream",
     "text": [
      "False\n",
      "False\n",
      "True\n"
     ]
    }
   ],
   "source": [
    "text = \"abc123\"\n",
    "is_alpha = text.isalpha()   # False (contains digits)\n",
    "is_digit = text.isdigit()   # False (contains alphabetic characters)\n",
    "is_alnum = text.isalnum()   # True (contains only alphanumeric characters)\n",
    "print(is_alpha)\n",
    "print(is_digit)\n",
    "print(is_alnum)"
   ]
  },
  {
   "cell_type": "markdown",
   "id": "1f73e63d",
   "metadata": {},
   "source": [
    "#### format(): Formats strings by replacing placeholders with values."
   ]
  },
  {
   "cell_type": "code",
   "execution_count": 23,
   "id": "40ec47a3",
   "metadata": {},
   "outputs": [
    {
     "name": "stdout",
     "output_type": "stream",
     "text": [
      "My first programming language is Python.\n"
     ]
    }
   ],
   "source": [
    "language = \"Python\"\n",
    "formatted = \"My first programming language is {}.\".format(language)\n",
    "print(formatted)"
   ]
  },
  {
   "cell_type": "code",
   "execution_count": null,
   "id": "fd60c8e9",
   "metadata": {},
   "outputs": [],
   "source": []
  }
 ],
 "metadata": {
  "kernelspec": {
   "display_name": "Python 3 (ipykernel)",
   "language": "python",
   "name": "python3"
  },
  "language_info": {
   "codemirror_mode": {
    "name": "ipython",
    "version": 3
   },
   "file_extension": ".py",
   "mimetype": "text/x-python",
   "name": "python",
   "nbconvert_exporter": "python",
   "pygments_lexer": "ipython3",
   "version": "3.10.9"
  }
 },
 "nbformat": 4,
 "nbformat_minor": 5
}
