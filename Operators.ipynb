{
 "cells": [
  {
   "cell_type": "markdown",
   "id": "e7b24eb0",
   "metadata": {},
   "source": [
    "<!DOCTYPE html>\n",
    "<html>\n",
    "<body>\n",
    "<h3>Python divides the operators in the following groups:\n",
    "\n",
    "    .Arithmetic operators\n",
    "\n",
    "    .Assignment operators\n",
    "\n",
    "    .Comparison operators\n",
    "\n",
    "    .Logical operators\n",
    "\n",
    "    .Identity operators\n",
    "\n",
    "    .Membership operators\n",
    "    \n",
    " </body>\n",
    "</html>   \n",
    "     "
   ]
  },
  {
   "cell_type": "markdown",
   "id": "5427156a",
   "metadata": {},
   "source": [
    "<!DOCTYPE html>\n",
    "<html>\n",
    "<body>\n",
    "<h3>Arithmetic operators are used with numeric values to perform common mathematical operations:\n",
    "    \n",
    "    \n",
    "    \n",
    "Operator    \tName\t      \t\n",
    "    +\t      Addition\t    \t\n",
    "    -\t    Subtraction\t\t\n",
    "    *\t   Multiplication\t\t\n",
    "    /\t      Division\t\t\n",
    "    %\t       Modulus\t\t\n",
    "    **\t    Exponentiation  \n",
    "    //\t     Floor division\n",
    "    \n",
    "</body>\n",
    "</html> "
   ]
  },
  {
   "cell_type": "code",
   "execution_count": 1,
   "id": "607ed12d",
   "metadata": {},
   "outputs": [],
   "source": [
    "x = 5\n",
    "y = 10"
   ]
  },
  {
   "cell_type": "code",
   "execution_count": 2,
   "id": "471a00f0",
   "metadata": {},
   "outputs": [
    {
     "name": "stdout",
     "output_type": "stream",
     "text": [
      "15\n"
     ]
    }
   ],
   "source": [
    "print(x+y) #addition"
   ]
  },
  {
   "cell_type": "code",
   "execution_count": 3,
   "id": "369456d3",
   "metadata": {},
   "outputs": [
    {
     "name": "stdout",
     "output_type": "stream",
     "text": [
      "-5\n"
     ]
    }
   ],
   "source": [
    "print(x-y) # subtrction"
   ]
  },
  {
   "cell_type": "code",
   "execution_count": 4,
   "id": "6fd2a9b2",
   "metadata": {},
   "outputs": [
    {
     "name": "stdout",
     "output_type": "stream",
     "text": [
      "50\n"
     ]
    }
   ],
   "source": [
    "print(x*y) # multiplication"
   ]
  },
  {
   "cell_type": "code",
   "execution_count": 5,
   "id": "95788197",
   "metadata": {},
   "outputs": [
    {
     "name": "stdout",
     "output_type": "stream",
     "text": [
      "0.5\n"
     ]
    }
   ],
   "source": [
    "print(x/y) # division"
   ]
  },
  {
   "cell_type": "code",
   "execution_count": 6,
   "id": "49257db8",
   "metadata": {},
   "outputs": [
    {
     "name": "stdout",
     "output_type": "stream",
     "text": [
      "5\n"
     ]
    }
   ],
   "source": [
    "print(x%y) # Modulus"
   ]
  },
  {
   "cell_type": "code",
   "execution_count": 7,
   "id": "7bbbe2e4",
   "metadata": {},
   "outputs": [
    {
     "name": "stdout",
     "output_type": "stream",
     "text": [
      "3125\n"
     ]
    }
   ],
   "source": [
    "print(x**x) # Exponentiation or power"
   ]
  },
  {
   "cell_type": "code",
   "execution_count": 8,
   "id": "e9f9004c",
   "metadata": {},
   "outputs": [
    {
     "name": "stdout",
     "output_type": "stream",
     "text": [
      "0\n"
     ]
    }
   ],
   "source": [
    "print(x//y) # floor"
   ]
  },
  {
   "cell_type": "code",
   "execution_count": null,
   "id": "2059b351",
   "metadata": {},
   "outputs": [],
   "source": []
  },
  {
   "cell_type": "markdown",
   "id": "a1bbec51",
   "metadata": {},
   "source": [
    "### Assignment operators\n",
    "\n",
    "#### Assignment operators are used to assign values to variables"
   ]
  },
  {
   "cell_type": "markdown",
   "id": "e38c8360",
   "metadata": {},
   "source": [
    "Operator        Description\n",
    "\n",
    "=          This operator is used to assign the value of the right side of the expression to the left side operand\n",
    "\n",
    "+=         This operator is used to add the right side operand with the left side operand and then assigning the result to            the left operand \n",
    "\n",
    "-=         This operator is used to subtract the right operand from the left operand and then assigning the result to the              left operand\n",
    "\n",
    "*=         This operator is used to multiply the right operand with the left operand and then assigning the result to the              left operand.\n",
    "\n",
    "/=         This operator is used to divide the left operand with the right operand and then assigning the result to the                left operand\n",
    "\n",
    "%=         This operator is used to take the modulus using the left and the right operands and then assigning the result to            the left operand\n",
    "\n",
    "//=        This operator is used to divide the left operand with the right operand and then assigning the result(floor) to            the left operand\n",
    "\n",
    "**=        This operator is used to calculate the exponent(raise power) value using operands and then assigning the result            to the left operand\n",
    "\n",
    "&=         This operator is used to perform Bitwise AND on both operands and then assigning the result to the left operand\n",
    "\n",
    "|=          This operator is used to perform Bitwise OR on the operands and then assigning result to the left operand\n",
    "\n",
    "^=          This operator is used to perform Bitwise XOR on the operands and then assigning result to the left operand\n",
    "\n",
    ">>=          This operator is used to perform Bitwise right shift on the operands and then assigning result to the left                  operand\n",
    "\n",
    "<<=          This operator is used to perform Bitwise left shift on the operands and then assigning result to the left operand.\n",
    "\n",
    "\n",
    "\n",
    "Source:- \"https://www.geeksforgeeks.org/assignment-operators-in-python/\""
   ]
  },
  {
   "cell_type": "markdown",
   "id": "6575f407",
   "metadata": {},
   "source": [
    "## Assign operator ="
   ]
  },
  {
   "cell_type": "code",
   "execution_count": 9,
   "id": "20a8dd48",
   "metadata": {},
   "outputs": [
    {
     "name": "stdout",
     "output_type": "stream",
     "text": [
      "8\n"
     ]
    }
   ],
   "source": [
    "a = 3\n",
    "b = 5\n",
    "  \n",
    "c = a + b\n",
    "print(c)"
   ]
  },
  {
   "cell_type": "markdown",
   "id": "0c83b4fb",
   "metadata": {},
   "source": [
    "## Add and Assign +="
   ]
  },
  {
   "cell_type": "code",
   "execution_count": 10,
   "id": "ce732019",
   "metadata": {},
   "outputs": [
    {
     "name": "stdout",
     "output_type": "stream",
     "text": [
      "8\n"
     ]
    }
   ],
   "source": [
    "a = 3\n",
    "b = 5\n",
    "  \n",
    "a += b\n",
    "print(a)"
   ]
  },
  {
   "cell_type": "markdown",
   "id": "d8beacb5",
   "metadata": {},
   "source": [
    "## Subtract and Assign -="
   ]
  },
  {
   "cell_type": "code",
   "execution_count": 11,
   "id": "09aa87e9",
   "metadata": {},
   "outputs": [
    {
     "name": "stdout",
     "output_type": "stream",
     "text": [
      "-2\n"
     ]
    }
   ],
   "source": [
    "a = 3\n",
    "b = 5\n",
    "  \n",
    "a -= b\n",
    "  \n",
    "print(a)"
   ]
  },
  {
   "cell_type": "markdown",
   "id": "2fc5fb4b",
   "metadata": {},
   "source": [
    "## Multiply and Assign *="
   ]
  },
  {
   "cell_type": "code",
   "execution_count": 12,
   "id": "fb92b714",
   "metadata": {},
   "outputs": [
    {
     "name": "stdout",
     "output_type": "stream",
     "text": [
      "15\n"
     ]
    }
   ],
   "source": [
    "a = 3\n",
    "b = 5\n",
    "  \n",
    "a *= b\n",
    "\n",
    "print(a)"
   ]
  },
  {
   "cell_type": "markdown",
   "id": "d98c6287",
   "metadata": {},
   "source": [
    "## Divide and Assign /="
   ]
  },
  {
   "cell_type": "code",
   "execution_count": 13,
   "id": "aa1dc847",
   "metadata": {},
   "outputs": [
    {
     "name": "stdout",
     "output_type": "stream",
     "text": [
      "0.6\n"
     ]
    }
   ],
   "source": [
    "a = 3\n",
    "b = 5\n",
    "  \n",
    "a /= b\n",
    "  \n",
    "\n",
    "print(a)"
   ]
  },
  {
   "cell_type": "markdown",
   "id": "ff063ede",
   "metadata": {},
   "source": [
    "## Modulus and Assign %="
   ]
  },
  {
   "cell_type": "code",
   "execution_count": 14,
   "id": "caa03c33",
   "metadata": {},
   "outputs": [
    {
     "name": "stdout",
     "output_type": "stream",
     "text": [
      "3\n"
     ]
    }
   ],
   "source": [
    "a = 3\n",
    "b = 5\n",
    "\n",
    "a %= b\n",
    "  \n",
    "print(a)"
   ]
  },
  {
   "cell_type": "markdown",
   "id": "1b402658",
   "metadata": {},
   "source": [
    "## Divide (floor) and Assign //="
   ]
  },
  {
   "cell_type": "code",
   "execution_count": 15,
   "id": "cadd4653",
   "metadata": {},
   "outputs": [
    {
     "name": "stdout",
     "output_type": "stream",
     "text": [
      "0\n"
     ]
    }
   ],
   "source": [
    "a = 3\n",
    "b = 5\n",
    "\n",
    "a //= b\n",
    "\n",
    "print(a)"
   ]
  },
  {
   "cell_type": "markdown",
   "id": "f8ec85e2",
   "metadata": {},
   "source": [
    "## Exponent and Assign: **="
   ]
  },
  {
   "cell_type": "code",
   "execution_count": 16,
   "id": "ea9fe42f",
   "metadata": {},
   "outputs": [
    {
     "name": "stdout",
     "output_type": "stream",
     "text": [
      "243\n"
     ]
    }
   ],
   "source": [
    "\n",
    "a = 3\n",
    "b = 5\n",
    "  \n",
    "a **= b\n",
    "  \n",
    "print(a)"
   ]
  },
  {
   "cell_type": "markdown",
   "id": "485a3bc2",
   "metadata": {},
   "source": [
    "## Bitwise AND and Assign &="
   ]
  },
  {
   "cell_type": "code",
   "execution_count": 17,
   "id": "e08c6d70",
   "metadata": {},
   "outputs": [
    {
     "name": "stdout",
     "output_type": "stream",
     "text": [
      "1\n"
     ]
    }
   ],
   "source": [
    "\n",
    "a = 3\n",
    "b = 5\n",
    "  \n",
    "a &= b\n",
    "  \n",
    "print(a)"
   ]
  },
  {
   "cell_type": "markdown",
   "id": "0fea35ff",
   "metadata": {},
   "source": [
    "## Bitwise OR and Assign |="
   ]
  },
  {
   "cell_type": "code",
   "execution_count": 18,
   "id": "530428db",
   "metadata": {},
   "outputs": [
    {
     "name": "stdout",
     "output_type": "stream",
     "text": [
      "7\n"
     ]
    }
   ],
   "source": [
    "a = 3\n",
    "b = 5\n",
    "  \n",
    "a |= b\n",
    "  \n",
    "print(a)"
   ]
  },
  {
   "cell_type": "markdown",
   "id": "d60d06b4",
   "metadata": {},
   "source": [
    "## Bitwise XOR and Assign ^="
   ]
  },
  {
   "cell_type": "code",
   "execution_count": 19,
   "id": "8776dade",
   "metadata": {},
   "outputs": [
    {
     "name": "stdout",
     "output_type": "stream",
     "text": [
      "6\n"
     ]
    }
   ],
   "source": [
    "\n",
    "a = 3\n",
    "b = 5\n",
    "\n",
    "a ^= b\n",
    "  \n",
    "print(a)"
   ]
  },
  {
   "cell_type": "markdown",
   "id": "3c3e873c",
   "metadata": {},
   "source": [
    "## Bitwise Right Shift and Assign >>="
   ]
  },
  {
   "cell_type": "code",
   "execution_count": 20,
   "id": "c125d3cf",
   "metadata": {},
   "outputs": [
    {
     "name": "stdout",
     "output_type": "stream",
     "text": [
      "0\n"
     ]
    }
   ],
   "source": [
    "\n",
    "a = 3\n",
    "b = 5\n",
    "  \n",
    "a >>= b\n",
    "  \n",
    "print(a)"
   ]
  },
  {
   "cell_type": "markdown",
   "id": "baf3fdca",
   "metadata": {},
   "source": [
    "## Bitwise Left Shift and Assign <<="
   ]
  },
  {
   "cell_type": "code",
   "execution_count": 21,
   "id": "0b5a41d7",
   "metadata": {},
   "outputs": [
    {
     "name": "stdout",
     "output_type": "stream",
     "text": [
      "96\n"
     ]
    }
   ],
   "source": [
    "a = 3\n",
    "b = 5\n",
    "  \n",
    "a <<= b\n",
    "  \n",
    "print(a)"
   ]
  },
  {
   "cell_type": "code",
   "execution_count": null,
   "id": "e7121226",
   "metadata": {},
   "outputs": [],
   "source": []
  },
  {
   "cell_type": "markdown",
   "id": "4d5924ce",
   "metadata": {},
   "source": [
    "<h3>Comparison operators are used to compare two values\n",
    "    \n",
    "    \n",
    "    \n",
    "Operator    \tName\t      \t\n",
    "    ==\t      Is Equal to\t    \t\n",
    "    !=\t    Not Equal to\t\n",
    "    >\t   Greater than\t\t\n",
    "    <\t      Less than\t\n",
    "    >=\t       Greater than or Equal to\t\n",
    "    <=\t    Less than or equal to\n",
    "    "
   ]
  },
  {
   "cell_type": "markdown",
   "id": "2d83e4b8",
   "metadata": {},
   "source": []
  },
  {
   "cell_type": "code",
   "execution_count": 22,
   "id": "7a87d66c",
   "metadata": {},
   "outputs": [
    {
     "name": "stdout",
     "output_type": "stream",
     "text": [
      "False\n"
     ]
    }
   ],
   "source": [
    "x = 5 \n",
    "y = 3\n",
    "\n",
    "print(x==y) # return boolean  Equal to opearator"
   ]
  },
  {
   "cell_type": "code",
   "execution_count": 23,
   "id": "16966699",
   "metadata": {},
   "outputs": [
    {
     "name": "stdout",
     "output_type": "stream",
     "text": [
      "True\n"
     ]
    }
   ],
   "source": [
    "print(x!=y)   # not equal to"
   ]
  },
  {
   "cell_type": "code",
   "execution_count": 24,
   "id": "a26b2cc0",
   "metadata": {},
   "outputs": [
    {
     "name": "stdout",
     "output_type": "stream",
     "text": [
      "True\n"
     ]
    }
   ],
   "source": [
    "print(x>y)    # greater than"
   ]
  },
  {
   "cell_type": "code",
   "execution_count": 25,
   "id": "008f4493",
   "metadata": {},
   "outputs": [
    {
     "name": "stdout",
     "output_type": "stream",
     "text": [
      "False\n"
     ]
    }
   ],
   "source": [
    "print(x<y)    # less than"
   ]
  },
  {
   "cell_type": "code",
   "execution_count": 26,
   "id": "b7031245",
   "metadata": {},
   "outputs": [
    {
     "name": "stdout",
     "output_type": "stream",
     "text": [
      "True\n"
     ]
    }
   ],
   "source": [
    "print(x>=y)    # is greater than or equal to"
   ]
  },
  {
   "cell_type": "code",
   "execution_count": 27,
   "id": "c2a7c8be",
   "metadata": {},
   "outputs": [
    {
     "name": "stdout",
     "output_type": "stream",
     "text": [
      "False\n"
     ]
    }
   ],
   "source": [
    "print(x<=y)    # less than or equal to"
   ]
  },
  {
   "cell_type": "code",
   "execution_count": null,
   "id": "87604bd8",
   "metadata": {},
   "outputs": [],
   "source": []
  },
  {
   "cell_type": "code",
   "execution_count": null,
   "id": "caccc533",
   "metadata": {},
   "outputs": [],
   "source": []
  },
  {
   "cell_type": "markdown",
   "id": "81a23a57",
   "metadata": {},
   "source": [
    "## Python Identity Operators\n",
    "Identity operators are used to compare the objects, not if they are equal, but if they are actually the same object, with the same memory location:"
   ]
  },
  {
   "cell_type": "markdown",
   "id": "3e5bb800",
   "metadata": {},
   "source": [
    "Operator\t           Description\t\n",
    "is \t           Returns true if both variables are the same object\t\n",
    "is not\t       Returns true if both variables are not the same object"
   ]
  },
  {
   "cell_type": "code",
   "execution_count": 28,
   "id": "5325ed98",
   "metadata": {},
   "outputs": [],
   "source": [
    "x = 3\n",
    "y = 3"
   ]
  },
  {
   "cell_type": "code",
   "execution_count": 29,
   "id": "1e89317b",
   "metadata": {},
   "outputs": [
    {
     "name": "stdout",
     "output_type": "stream",
     "text": [
      "True\n"
     ]
    }
   ],
   "source": [
    "print(x is y)"
   ]
  },
  {
   "cell_type": "code",
   "execution_count": 30,
   "id": "99a2238d",
   "metadata": {},
   "outputs": [
    {
     "name": "stdout",
     "output_type": "stream",
     "text": [
      "False\n"
     ]
    }
   ],
   "source": [
    "print(x is not y)"
   ]
  },
  {
   "cell_type": "code",
   "execution_count": null,
   "id": "28969de9",
   "metadata": {},
   "outputs": [],
   "source": []
  },
  {
   "cell_type": "markdown",
   "id": "23c7e8a5",
   "metadata": {},
   "source": [
    "### Membership operators\n",
    "\n",
    "membership operators in python test a sequence such as string , list or tuple."
   ]
  },
  {
   "cell_type": "markdown",
   "id": "0baa48e5",
   "metadata": {},
   "source": [
    "Operator\t           Description\t\n",
    "\n",
    "in \t           Returns true if value found\t\n",
    "not in\t       Returns true if value not found"
   ]
  },
  {
   "cell_type": "code",
   "execution_count": 31,
   "id": "478bbe5f",
   "metadata": {},
   "outputs": [
    {
     "data": {
      "text/plain": [
       "True"
      ]
     },
     "execution_count": 31,
     "metadata": {},
     "output_type": "execute_result"
    }
   ],
   "source": [
    "a = 50\n",
    "b = [1,2,3,4,5,6,50]\n",
    "\n",
    "a in b"
   ]
  },
  {
   "cell_type": "code",
   "execution_count": 32,
   "id": "420cac3a",
   "metadata": {},
   "outputs": [
    {
     "data": {
      "text/plain": [
       "False"
      ]
     },
     "execution_count": 32,
     "metadata": {},
     "output_type": "execute_result"
    }
   ],
   "source": [
    "a = 50\n",
    "b = [1,2,3,4,5,6]\n",
    "\n",
    "a in b"
   ]
  },
  {
   "cell_type": "code",
   "execution_count": 33,
   "id": "19cabc92",
   "metadata": {},
   "outputs": [
    {
     "data": {
      "text/plain": [
       "False"
      ]
     },
     "execution_count": 33,
     "metadata": {},
     "output_type": "execute_result"
    }
   ],
   "source": [
    "a = 50\n",
    "b = [1,2,3,4,5,6,50]\n",
    "\n",
    "a not in b"
   ]
  },
  {
   "cell_type": "code",
   "execution_count": 34,
   "id": "69339fac",
   "metadata": {},
   "outputs": [
    {
     "data": {
      "text/plain": [
       "True"
      ]
     },
     "execution_count": 34,
     "metadata": {},
     "output_type": "execute_result"
    }
   ],
   "source": [
    "a = 50\n",
    "b = [1,2,3,4,5,6]\n",
    "\n",
    "a not in b"
   ]
  },
  {
   "cell_type": "code",
   "execution_count": null,
   "id": "6ac09935",
   "metadata": {},
   "outputs": [],
   "source": []
  }
 ],
 "metadata": {
  "kernelspec": {
   "display_name": "Python 3",
   "language": "python",
   "name": "python3"
  },
  "language_info": {
   "codemirror_mode": {
    "name": "ipython",
    "version": 3
   },
   "file_extension": ".py",
   "mimetype": "text/x-python",
   "name": "python",
   "nbconvert_exporter": "python",
   "pygments_lexer": "ipython3",
   "version": "3.8.8"
  }
 },
 "nbformat": 4,
 "nbformat_minor": 5
}
