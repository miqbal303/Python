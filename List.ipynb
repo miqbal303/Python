{
 "cells": [
  {
   "cell_type": "markdown",
   "metadata": {
    "id": "Cxbfzo473qQt"
   },
   "source": [
    "<h2> Lists are used to store multiple items in a single variable .\n",
    " List items are ordered, changeable, and allow duplicate values.\n",
    " Lists are created using square brackets [ ]."
   ]
  },
  {
   "cell_type": "code",
   "execution_count": 1,
   "metadata": {
    "id": "qE5KOLWT2qdm"
   },
   "outputs": [],
   "source": [
    "Fruits = ['apple', 'banana','guava','pineapple']"
   ]
  },
  {
   "cell_type": "code",
   "execution_count": 2,
   "metadata": {
    "colab": {
     "base_uri": "https://localhost:8080/"
    },
    "id": "Ngk5On3E3tgD",
    "outputId": "393de425-fc69-4b7f-8aca-b4458e47f2dd"
   },
   "outputs": [
    {
     "data": {
      "text/plain": [
       "list"
      ]
     },
     "execution_count": 2,
     "metadata": {},
     "output_type": "execute_result"
    }
   ],
   "source": [
    "type(Fruits)"
   ]
  },
  {
   "cell_type": "markdown",
   "metadata": {
    "id": "IbYEr8QZEhIA"
   },
   "source": [
    "<h3> adding multiple list in a single varible\n"
   ]
  },
  {
   "cell_type": "code",
   "execution_count": 3,
   "metadata": {
    "id": "mdgjNRyzEgQI"
   },
   "outputs": [],
   "source": [
    "Fruits1 = ['apple', 'banana','guava','pineapple']\n",
    "Fruits2 = ['orange', 'pear', 'kiwi']\n"
   ]
  },
  {
   "cell_type": "code",
   "execution_count": 4,
   "metadata": {
    "colab": {
     "base_uri": "https://localhost:8080/"
    },
    "id": "frz7U9HZFTTQ",
    "outputId": "e3a74186-e78a-44f8-ca9c-e1c344c235c8"
   },
   "outputs": [
    {
     "data": {
      "text/plain": [
       "['apple', 'banana', 'guava', 'pineapple', 'orange', 'pear', 'kiwi']"
      ]
     },
     "execution_count": 4,
     "metadata": {},
     "output_type": "execute_result"
    }
   ],
   "source": [
    "Fruits = Fruits1 + Fruits2\n",
    "\n",
    "Fruits"
   ]
  },
  {
   "cell_type": "code",
   "execution_count": 5,
   "metadata": {
    "id": "rTTVyvyj5Vyg"
   },
   "outputs": [],
   "source": [
    "# indexing/slicing\n",
    "# start with left to right is 0 to so on\n",
    "# start with right to left is -1 to so on"
   ]
  },
  {
   "cell_type": "code",
   "execution_count": 6,
   "metadata": {
    "colab": {
     "base_uri": "https://localhost:8080/",
     "height": 35
    },
    "id": "H91TNbg25lSf",
    "outputId": "dec575c1-82fd-49f0-823b-81daba4693bf"
   },
   "outputs": [
    {
     "data": {
      "text/plain": [
       "'apple'"
      ]
     },
     "execution_count": 6,
     "metadata": {},
     "output_type": "execute_result"
    }
   ],
   "source": [
    "Fruits[0]"
   ]
  },
  {
   "cell_type": "code",
   "execution_count": 7,
   "metadata": {
    "colab": {
     "base_uri": "https://localhost:8080/",
     "height": 35
    },
    "id": "g2KLbkZX5nUf",
    "outputId": "45cd6c52-8ac3-41df-8b69-809a05efddda"
   },
   "outputs": [
    {
     "data": {
      "text/plain": [
       "'guava'"
      ]
     },
     "execution_count": 7,
     "metadata": {},
     "output_type": "execute_result"
    }
   ],
   "source": [
    "Fruits[2]"
   ]
  },
  {
   "cell_type": "code",
   "execution_count": 8,
   "metadata": {
    "colab": {
     "base_uri": "https://localhost:8080/",
     "height": 35
    },
    "id": "0o2OK49f6BCF",
    "outputId": "85943cd7-de7a-4b6f-b565-8e1fb150b0f4"
   },
   "outputs": [
    {
     "data": {
      "text/plain": [
       "'kiwi'"
      ]
     },
     "execution_count": 8,
     "metadata": {},
     "output_type": "execute_result"
    }
   ],
   "source": [
    "Fruits[-1]"
   ]
  },
  {
   "cell_type": "code",
   "execution_count": 9,
   "metadata": {
    "colab": {
     "base_uri": "https://localhost:8080/"
    },
    "id": "Le7dQt4vFtK8",
    "outputId": "b1130b04-22df-487c-f8ae-6ad3eb31a42a"
   },
   "outputs": [
    {
     "data": {
      "text/plain": [
       "['pineapple', 'orange']"
      ]
     },
     "execution_count": 9,
     "metadata": {},
     "output_type": "execute_result"
    }
   ],
   "source": [
    "Fruits[3:5]     # last index no does not return value it's excluded"
   ]
  },
  {
   "cell_type": "code",
   "execution_count": 10,
   "metadata": {
    "colab": {
     "base_uri": "https://localhost:8080/"
    },
    "id": "lZHAThZMFtOy",
    "outputId": "bec99cf5-55a5-4df2-f4c8-cf70e7889d5d"
   },
   "outputs": [
    {
     "data": {
      "text/plain": [
       "['guava', 'pineapple', 'orange']"
      ]
     },
     "execution_count": 10,
     "metadata": {},
     "output_type": "execute_result"
    }
   ],
   "source": [
    "Fruits[2:-2]"
   ]
  },
  {
   "cell_type": "code",
   "execution_count": 11,
   "metadata": {
    "colab": {
     "base_uri": "https://localhost:8080/"
    },
    "id": "-Auf4os9FtRq",
    "outputId": "ffb4a9e9-0d9b-49a6-b373-7e812ad452b5"
   },
   "outputs": [
    {
     "data": {
      "text/plain": [
       "['apple', 'banana', 'guava', 'pineapple', 'orange', 'pear', 'kiwi']"
      ]
     },
     "execution_count": 11,
     "metadata": {},
     "output_type": "execute_result"
    }
   ],
   "source": [
    "Fruits[:]"
   ]
  },
  {
   "cell_type": "markdown",
   "metadata": {
    "id": "z_As2MjX84_V"
   },
   "source": [
    "<h3>Replace or change items"
   ]
  },
  {
   "cell_type": "code",
   "execution_count": 12,
   "metadata": {
    "id": "Pl3_KPet9rPR"
   },
   "outputs": [],
   "source": [
    "Fruits[0] = 'watermelon'"
   ]
  },
  {
   "cell_type": "code",
   "execution_count": 13,
   "metadata": {
    "colab": {
     "base_uri": "https://localhost:8080/"
    },
    "id": "8rglzidoH007",
    "outputId": "3213edb5-95f6-4c33-dcff-57ced838fb1c"
   },
   "outputs": [
    {
     "data": {
      "text/plain": [
       "['watermelon', 'banana', 'guava', 'pineapple', 'orange', 'pear', 'kiwi']"
      ]
     },
     "execution_count": 13,
     "metadata": {},
     "output_type": "execute_result"
    }
   ],
   "source": [
    "Fruits"
   ]
  },
  {
   "cell_type": "markdown",
   "metadata": {
    "id": "lekq7cQZK60d"
   },
   "source": [
    "<h3> add a single item in the end by append() methos"
   ]
  },
  {
   "cell_type": "code",
   "execution_count": 14,
   "metadata": {
    "colab": {
     "base_uri": "https://localhost:8080/"
    },
    "id": "_C42UVtc_UoW",
    "outputId": "2aed3dae-0328-47cb-e97c-f917ff51e1c4"
   },
   "outputs": [
    {
     "name": "stdout",
     "output_type": "stream",
     "text": [
      "['watermelon', 'banana', 'guava', 'pineapple', 'orange', 'pear', 'kiwi', 'apple']\n"
     ]
    }
   ],
   "source": [
    "Fruits.append('apple')\n",
    "print(Fruits)"
   ]
  },
  {
   "cell_type": "markdown",
   "metadata": {
    "id": "1V45Y8HwL8f1"
   },
   "source": [
    "<h3> add multiple item or  list at end of give list by extend method"
   ]
  },
  {
   "cell_type": "code",
   "execution_count": 15,
   "metadata": {
    "colab": {
     "base_uri": "https://localhost:8080/"
    },
    "id": "Thssux8e_VqW",
    "outputId": "5f56655e-39e9-4c8a-b52c-ee64156afd8c"
   },
   "outputs": [
    {
     "name": "stdout",
     "output_type": "stream",
     "text": [
      "['watermelon', 'banana', 'guava', 'pineapple', 'orange', 'pear', 'kiwi', 'apple', 'pomegranate', 'strawberry', 'berry']\n"
     ]
    }
   ],
   "source": [
    "Fruits.extend(['pomegranate','strawberry','berry'])\n",
    "print(Fruits)"
   ]
  },
  {
   "cell_type": "code",
   "execution_count": 16,
   "metadata": {
    "id": "HobYIOPKMIGz"
   },
   "outputs": [],
   "source": [
    "vegetable = ['potato', 'tomato','pea','pumpkin']\n",
    "Fruits.extend([vegetable,'pomegranate','strawberry','berry'])"
   ]
  },
  {
   "cell_type": "code",
   "execution_count": 17,
   "metadata": {
    "colab": {
     "base_uri": "https://localhost:8080/"
    },
    "id": "pqUtePfLM6_9",
    "outputId": "8e52e9df-7ff0-42b5-a54c-96ce11ecc479"
   },
   "outputs": [
    {
     "name": "stdout",
     "output_type": "stream",
     "text": [
      "['watermelon', 'banana', 'guava', 'pineapple', 'orange', 'pear', 'kiwi', 'apple', 'pomegranate', 'strawberry', 'berry', ['potato', 'tomato', 'pea', 'pumpkin'], 'pomegranate', 'strawberry', 'berry']\n"
     ]
    }
   ],
   "source": [
    "print(Fruits)"
   ]
  },
  {
   "cell_type": "markdown",
   "metadata": {
    "id": "2KXTiNUtNw4x"
   },
   "source": [
    "<h3> Insert a item in the given position by insert() method"
   ]
  },
  {
   "cell_type": "code",
   "execution_count": 18,
   "metadata": {
    "id": "zZuUo2XgN0YJ"
   },
   "outputs": [],
   "source": [
    "vegetable = ['potato', 'tomato','pea','pumpkin']"
   ]
  },
  {
   "cell_type": "code",
   "execution_count": 19,
   "metadata": {
    "colab": {
     "base_uri": "https://localhost:8080/"
    },
    "id": "kj8tOz4BN2Hn",
    "outputId": "bb89e3ce-efde-4248-cd9e-3ca9d20ad585"
   },
   "outputs": [
    {
     "data": {
      "text/plain": [
       "['potato', 'brinjal', 'tomato', 'pea', 'pumpkin']"
      ]
     },
     "execution_count": 19,
     "metadata": {},
     "output_type": "execute_result"
    }
   ],
   "source": [
    "vegetable.insert(1,'brinjal')  # first argument is index number\n",
    "vegetable"
   ]
  },
  {
   "cell_type": "markdown",
   "metadata": {
    "id": "JG4r8z20OPav"
   },
   "source": [
    "# Remove a item with given name and index by remove() and pop() method"
   ]
  },
  {
   "cell_type": "code",
   "execution_count": 20,
   "metadata": {
    "id": "2_uJfF_nORx2"
   },
   "outputs": [],
   "source": [
    "vegetable.remove('pea')   # give the item name if name is not available in list then it's gives an error"
   ]
  },
  {
   "cell_type": "code",
   "execution_count": 21,
   "metadata": {
    "colab": {
     "base_uri": "https://localhost:8080/"
    },
    "id": "DkODnjgnOmUt",
    "outputId": "7757813e-4fe0-4921-8807-4b2ba50b5e1b"
   },
   "outputs": [
    {
     "data": {
      "text/plain": [
       "['potato', 'brinjal', 'tomato', 'pumpkin']"
      ]
     },
     "execution_count": 21,
     "metadata": {},
     "output_type": "execute_result"
    }
   ],
   "source": [
    "vegetable"
   ]
  },
  {
   "cell_type": "code",
   "execution_count": 22,
   "metadata": {
    "colab": {
     "base_uri": "https://localhost:8080/"
    },
    "id": "KG6v4cyiOs-l",
    "outputId": "6a847e40-0222-4580-e745-fb54fa8bb012"
   },
   "outputs": [
    {
     "data": {
      "text/plain": [
       "['potato', 'brinjal', 'tomato']"
      ]
     },
     "execution_count": 22,
     "metadata": {},
     "output_type": "execute_result"
    }
   ],
   "source": [
    "vegetable.pop(3)\n",
    "vegetable"
   ]
  },
  {
   "cell_type": "markdown",
   "metadata": {
    "id": "usKiRilkSo29"
   },
   "source": [
    "# remove all item in a list by clear() method"
   ]
  },
  {
   "cell_type": "code",
   "execution_count": 23,
   "metadata": {
    "id": "FBdeb4FeR6PN"
   },
   "outputs": [],
   "source": [
    "Fruits1 = ['apple', 'banana','guava','pineapple']"
   ]
  },
  {
   "cell_type": "code",
   "execution_count": 24,
   "metadata": {
    "colab": {
     "base_uri": "https://localhost:8080/"
    },
    "id": "CrdCnciBS0as",
    "outputId": "73a447d7-85bc-41e5-96e3-da4a9f86f41b"
   },
   "outputs": [
    {
     "data": {
      "text/plain": [
       "[]"
      ]
     },
     "execution_count": 24,
     "metadata": {},
     "output_type": "execute_result"
    }
   ],
   "source": [
    "Fruits1.clear()\n",
    "Fruits1"
   ]
  },
  {
   "cell_type": "markdown",
   "metadata": {
    "id": "v2QLoBp2Ts8W"
   },
   "source": [
    "<h3> Find total number of a single item in a list by count() method"
   ]
  },
  {
   "cell_type": "code",
   "execution_count": 25,
   "metadata": {
    "id": "x0sL95J9TrLW"
   },
   "outputs": [],
   "source": [
    "Fruit_vegetable = ['watermelon', 'banana', 'guava', 'pineapple', 'orange', 'pear', 'kiwi', 'apple', 'pomegranate', 'strawberry', 'berry', 'potato', 'tomato', 'pea', 'pumpkin', 'pomegranate', 'strawberry', 'berry', 'potato', 'tomato', 'pea', 'pumpkin', 'pomegranate', 'strawberry', 'berry']"
   ]
  },
  {
   "cell_type": "code",
   "execution_count": 26,
   "metadata": {
    "colab": {
     "base_uri": "https://localhost:8080/"
    },
    "id": "0eRUKQ1wTJRD",
    "outputId": "42bc22fd-c3a2-4037-8c6c-a42a9b4d53c1"
   },
   "outputs": [
    {
     "data": {
      "text/plain": [
       "1"
      ]
     },
     "execution_count": 26,
     "metadata": {},
     "output_type": "execute_result"
    }
   ],
   "source": [
    "Fruit_vegetable.count('watermelon')"
   ]
  },
  {
   "cell_type": "code",
   "execution_count": 27,
   "metadata": {
    "colab": {
     "base_uri": "https://localhost:8080/"
    },
    "id": "MlpBeQDaUVUa",
    "outputId": "3c4ebc41-600b-4be7-ba90-6a9dacf5be52"
   },
   "outputs": [
    {
     "data": {
      "text/plain": [
       "3"
      ]
     },
     "execution_count": 27,
     "metadata": {},
     "output_type": "execute_result"
    }
   ],
   "source": [
    "Fruit_vegetable.count('strawberry')"
   ]
  },
  {
   "cell_type": "code",
   "execution_count": 28,
   "metadata": {
    "colab": {
     "base_uri": "https://localhost:8080/"
    },
    "id": "J4tjLdIFWZHy",
    "outputId": "71612457-3eaa-4e9b-c049-bae104c76b6c"
   },
   "outputs": [
    {
     "data": {
      "text/plain": [
       "0"
      ]
     },
     "execution_count": 28,
     "metadata": {},
     "output_type": "execute_result"
    }
   ],
   "source": [
    "Fruit_vegetable.count('hello')  # if item not in the list it's return zero"
   ]
  },
  {
   "cell_type": "markdown",
   "metadata": {
    "id": "pqMmRLiQWpWz"
   },
   "source": [
    "# Sort the list by sort() method"
   ]
  },
  {
   "cell_type": "code",
   "execution_count": 29,
   "metadata": {
    "id": "cMuBNJL8WjfA"
   },
   "outputs": [],
   "source": [
    "Fruit_vegetable = ['watermelon', 'banana', 'guava', 'pineapple', 'orange', 'pear', 'kiwi', 'apple', 'pomegranate', 'strawberry', 'berry', 'potato', 'tomato', 'pea', 'pumpkin', 'pomegranate', 'strawberry', 'berry', 'potato', 'tomato', 'pea', 'pumpkin', 'pomegranate', 'strawberry', 'berry']"
   ]
  },
  {
   "cell_type": "code",
   "execution_count": 30,
   "metadata": {
    "colab": {
     "base_uri": "https://localhost:8080/"
    },
    "id": "EqysjbXwWwRI",
    "outputId": "3bebe848-b87e-4ef9-8bd5-12b90f95881f"
   },
   "outputs": [
    {
     "data": {
      "text/plain": [
       "['apple',\n",
       " 'banana',\n",
       " 'berry',\n",
       " 'berry',\n",
       " 'berry',\n",
       " 'guava',\n",
       " 'kiwi',\n",
       " 'orange',\n",
       " 'pea',\n",
       " 'pea',\n",
       " 'pear',\n",
       " 'pineapple',\n",
       " 'pomegranate',\n",
       " 'pomegranate',\n",
       " 'pomegranate',\n",
       " 'potato',\n",
       " 'potato',\n",
       " 'pumpkin',\n",
       " 'pumpkin',\n",
       " 'strawberry',\n",
       " 'strawberry',\n",
       " 'strawberry',\n",
       " 'tomato',\n",
       " 'tomato',\n",
       " 'watermelon']"
      ]
     },
     "execution_count": 30,
     "metadata": {},
     "output_type": "execute_result"
    }
   ],
   "source": [
    "Fruit_vegetable.sort()\n",
    "Fruit_vegetable"
   ]
  },
  {
   "cell_type": "markdown",
   "metadata": {
    "id": "bEhmLkyAYi7U"
   },
   "source": [
    "\n",
    "# Reverse the elements of the list in place by reverse() method"
   ]
  },
  {
   "cell_type": "code",
   "execution_count": 31,
   "metadata": {
    "id": "esuApMEyW2AI"
   },
   "outputs": [],
   "source": [
    "Fruits = ['watermelon', 'banana', 'guava', 'pineapple','pomegranate']\n",
    "Fruits.reverse()"
   ]
  },
  {
   "cell_type": "code",
   "execution_count": 32,
   "metadata": {
    "colab": {
     "base_uri": "https://localhost:8080/"
    },
    "id": "2DZkmQKUYcQg",
    "outputId": "f276c011-1180-4a85-cd46-721c4a53f662"
   },
   "outputs": [
    {
     "data": {
      "text/plain": [
       "['pomegranate', 'pineapple', 'guava', 'banana', 'watermelon']"
      ]
     },
     "execution_count": 32,
     "metadata": {},
     "output_type": "execute_result"
    }
   ],
   "source": [
    "Fruits"
   ]
  },
  {
   "cell_type": "markdown",
   "metadata": {
    "id": "F75IDH_WYv4Z"
   },
   "source": [
    "# Return a shallow copy of the list by copy() method"
   ]
  },
  {
   "cell_type": "code",
   "execution_count": 33,
   "metadata": {
    "colab": {
     "base_uri": "https://localhost:8080/"
    },
    "id": "HlS9i-gfYeqa",
    "outputId": "3133fc71-2baf-401c-8280-7a4a6745e597"
   },
   "outputs": [
    {
     "data": {
      "text/plain": [
       "['watermelon', 'banana', 'guava', 'pineapple', 'pomegranate']"
      ]
     },
     "execution_count": 33,
     "metadata": {},
     "output_type": "execute_result"
    }
   ],
   "source": [
    "Fruits = ['watermelon', 'banana', 'guava', 'pineapple','pomegranate']\n",
    "a = Fruits.copy()\n",
    "a"
   ]
  },
  {
   "cell_type": "markdown",
   "metadata": {
    "id": "9sm__oILzuJb"
   },
   "source": [
    "<h1> List Comprehensive\n",
    "<h3> List comprehension offers a shorter syntax when you want to create a new list based on the values of an existing list"
   ]
  },
  {
   "cell_type": "code",
   "execution_count": 34,
   "metadata": {
    "id": "tkorSjZKY-Kv"
   },
   "outputs": [],
   "source": [
    "Fruits = ['watermelon', 'banana', 'guava', 'pineapple', 'orange', 'pear', 'kiwi',\n",
    "          'apple', 'pomegranate', 'strawberry', 'berry', 'pomegranate', 'strawberry', 'berry']\n",
    "\n",
    "list = []"
   ]
  },
  {
   "cell_type": "code",
   "execution_count": 35,
   "metadata": {
    "colab": {
     "base_uri": "https://localhost:8080/"
    },
    "id": "2j9kBXg13JPW",
    "outputId": "6319f80a-56a7-492c-edd9-9261928bb6aa"
   },
   "outputs": [
    {
     "name": "stdout",
     "output_type": "stream",
     "text": [
      "['banana', 'strawberry', 'berry', 'strawberry', 'berry']\n"
     ]
    }
   ],
   "source": [
    "for i in Fruits:\n",
    "    if 'b' in i:    # find item which have alphabet 'b'\n",
    "        \n",
    "        list.append(i)\n",
    "        \n",
    "print(list)"
   ]
  },
  {
   "cell_type": "code",
   "execution_count": 36,
   "metadata": {
    "colab": {
     "base_uri": "https://localhost:8080/"
    },
    "id": "ghZWY1R30X4f",
    "outputId": "ba4c880a-db8d-4829-ea14-e6dba2b3d1a5"
   },
   "outputs": [
    {
     "name": "stdout",
     "output_type": "stream",
     "text": [
      "[]\n"
     ]
    }
   ],
   "source": [
    "Fruits = ['watermelon', 'banana', 'guava', 'pineapple', 'orange', 'pear', 'kiwi',\n",
    "          'apple', 'pomegranate', 'strawberry', 'berry', 'pomegranate', 'strawberry', 'berry']\n",
    "\n",
    "list = []\n",
    "\n",
    "\n",
    "for i in Fruits:\n",
    "    if 'c' in i:            # find item which have alphabet 'c'.Fruits list doest not have any item in list which have 'c'\n",
    "        list.append(i)      # it's return empty list\n",
    "        \n",
    "print(list)"
   ]
  },
  {
   "cell_type": "code",
   "execution_count": null,
   "metadata": {},
   "outputs": [],
   "source": []
  }
 ],
 "metadata": {
  "colab": {
   "provenance": []
  },
  "kernelspec": {
   "display_name": "Python 3",
   "language": "python",
   "name": "python3"
  },
  "language_info": {
   "codemirror_mode": {
    "name": "ipython",
    "version": 3
   },
   "file_extension": ".py",
   "mimetype": "text/x-python",
   "name": "python",
   "nbconvert_exporter": "python",
   "pygments_lexer": "ipython3",
   "version": "3.8.8"
  }
 },
 "nbformat": 4,
 "nbformat_minor": 1
}
